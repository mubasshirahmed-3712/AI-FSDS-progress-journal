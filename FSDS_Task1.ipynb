{
 "cells": [
  {
   "cell_type": "markdown",
   "id": "a03aca91-c218-4d80-a449-c51cf202dd70",
   "metadata": {},
   "source": [
    "<h1 style=\"text-align: center; font-size: 40px;\">🚀 Introduction to Python 🚀</h1>\n"
   ]
  },
  {
   "cell_type": "markdown",
   "id": "f67d4bdb-14ef-4654-b682-8c7adff89968",
   "metadata": {},
   "source": [
    "<h2 style=\"text-align: center; font-size: 30px;\">Comments in Python</h2>\n"
   ]
  },
  {
   "cell_type": "code",
   "execution_count": 6,
   "id": "c45a26a6-bfe4-4015-af96-724e34fee14e",
   "metadata": {},
   "outputs": [
    {
     "data": {
      "text/plain": [
       "(1, \"# This is not a comment because it's inside quotes.\")"
      ]
     },
     "execution_count": 6,
     "metadata": {},
     "output_type": "execute_result"
    }
   ],
   "source": [
    "# this is the first comment\n",
    "spam = 1    # and this is the second comment\n",
    "# ... and now a third!\n",
    "text = \"# This is not a comment because it's inside quotes.\"\n",
    "spam,text"
   ]
  },
  {
   "cell_type": "markdown",
   "id": "78752a12-04fb-4958-a2dc-5d604c364aaf",
   "metadata": {},
   "source": [
    "<h2 style=\"text-align: center; font-size: 32px;\">📊 3.1.1 Numbers: Using Python as a Calculator</h2>\n"
   ]
  },
  {
   "cell_type": "code",
   "execution_count": 14,
   "id": "9bc30b34-b0e4-4e3e-a10f-60ec8ff0989d",
   "metadata": {},
   "outputs": [
    {
     "data": {
      "text/plain": [
       "1.6"
      ]
     },
     "execution_count": 14,
     "metadata": {},
     "output_type": "execute_result"
    }
   ],
   "source": [
    "# Basic arithmetic operations\n",
    "2 + 2\n",
    "50 - 5*6\n",
    "(50 - 5*6) / 4\n",
    "8 / 5  # always returns a float\n"
   ]
  },
  {
   "cell_type": "code",
   "execution_count": 15,
   "id": "92cdf809-f452-4af5-bc02-0b69a55fb3f0",
   "metadata": {},
   "outputs": [
    {
     "data": {
      "text/plain": [
       "17"
      ]
     },
     "execution_count": 15,
     "metadata": {},
     "output_type": "execute_result"
    }
   ],
   "source": [
    "# Floor division and remainder\n",
    "17 // 3     # Floor division: discards fractional part\n",
    "17 % 3      # Modulus: returns the remainder\n",
    "5 * 3 + 2   # Just verifying: quotient * divisor + remainder = original number\n"
   ]
  },
  {
   "cell_type": "code",
   "execution_count": 16,
   "id": "b6b687f1-fea6-4439-ab23-dab70385c12d",
   "metadata": {},
   "outputs": [
    {
     "data": {
      "text/plain": [
       "128"
      ]
     },
     "execution_count": 16,
     "metadata": {},
     "output_type": "execute_result"
    }
   ],
   "source": [
    "# Power operation\n",
    "2 ** 7      # 2 raised to the power 7\n"
   ]
  },
  {
   "cell_type": "code",
   "execution_count": 19,
   "id": "31f92e2a-36b7-420a-a84d-bbfbac8b3aac",
   "metadata": {},
   "outputs": [
    {
     "data": {
      "text/plain": [
       "3"
      ]
     },
     "execution_count": 19,
     "metadata": {},
     "output_type": "execute_result"
    }
   ],
   "source": [
    "# Variable assignment\n",
    "a = 10\n",
    "b = 3\n",
    "c = a // b\n",
    "c\n"
   ]
  },
  {
   "cell_type": "code",
   "execution_count": 20,
   "id": "9f26cc94-276b-40f9-ac7c-1fca8c0155c1",
   "metadata": {},
   "outputs": [
    {
     "data": {
      "text/plain": [
       "7.5"
      ]
     },
     "execution_count": 20,
     "metadata": {},
     "output_type": "execute_result"
    }
   ],
   "source": [
    "# Mixed operations between int and float\n",
    "7 / 3\n",
    "7 // 3\n",
    "7 / 3.0\n",
    "3 * 3.75 / 1.5\n"
   ]
  },
  {
   "cell_type": "code",
   "execution_count": null,
   "id": "991e964a-1d3d-4f21-b629-20eb963f169c",
   "metadata": {},
   "outputs": [],
   "source": [
    "# In the Python interpreter, _ stores the last result\n",
    "# In Jupyter, it's not always reliable, but it works in simple cells\n",
    "\n",
    "tax = 12.5 / 100\n",
    "price = 100.50\n",
    "price * tax     # last value is stored in _\n",
    "price + _       # add tax to original price\n",
    "round(_, 2)     # round to 2 decimal places\n"
   ]
  },
  {
   "cell_type": "code",
   "execution_count": 41,
   "id": "938ead55-116b-4a65-91db-12941f0947ff",
   "metadata": {},
   "outputs": [
    {
     "data": {
      "text/plain": [
       "5.830951894845301"
      ]
     },
     "execution_count": 41,
     "metadata": {},
     "output_type": "execute_result"
    }
   ],
   "source": [
    "# Complex number example\n",
    "z = 3 + 5j\n",
    "z.real     # Real part\n",
    "z.imag     # Imaginary part\n",
    "abs(z)     # Magnitude of complex number\n"
   ]
  },
  {
   "cell_type": "markdown",
   "id": "92fd6ebf-9cc7-4f5a-8cbe-e84827238329",
   "metadata": {},
   "source": [
    "<h2 style=\"text-align: center; font-size: 32px;\">✏️ 3.1.2 Text (Strings)</h2>\n"
   ]
  },
  {
   "cell_type": "code",
   "execution_count": 46,
   "id": "9505d914-b5a2-4c28-9e8a-ce678a79f72f",
   "metadata": {},
   "outputs": [
    {
     "data": {
      "text/plain": [
       "'\"Isn\\'t,\" they said.'"
      ]
     },
     "execution_count": 46,
     "metadata": {},
     "output_type": "execute_result"
    }
   ],
   "source": [
    "# Single vs double quotes and escaping\n",
    "'spam eggs'                       # single quotes\n",
    "\"doesn't\"                         # double quotes, contains '\n",
    "'doesn\\'t'                        # single quotes with escape\n",
    "\"\\\"Yes,\\\" they said.\"             # double quotes with escaped quotes\n",
    "'\"Isn\\'t,\" they said.'            # single quotes containing both \" and '\n"
   ]
  },
  {
   "cell_type": "code",
   "execution_count": 48,
   "id": "711d533a-8a36-43f8-8e4d-912371d69221",
   "metadata": {},
   "outputs": [
    {
     "name": "stdout",
     "output_type": "stream",
     "text": [
      "doesn't\n",
      "\"Yes,\" they said.\n"
     ]
    }
   ],
   "source": [
    "# Notice the difference between repr() (what you see above) and print()\n",
    "print(\"doesn't\")                  # more readable\n",
    "print('\"Yes,\" they said.')\n"
   ]
  },
  {
   "cell_type": "code",
   "execution_count": 49,
   "id": "9a56d938-c4a6-4505-8771-668d89fe0477",
   "metadata": {},
   "outputs": [
    {
     "name": "stdout",
     "output_type": "stream",
     "text": [
      "First line.\n",
      "Second line.\n",
      "C:\\some\\name\n"
     ]
    }
   ],
   "source": [
    "# Standard string with newline \\n\n",
    "s = 'First line.\\nSecond line.'\n",
    "print(s)\n",
    "\n",
    "# Raw string keeps backslashes literally\n",
    "print(r'C:\\some\\name')            # note the leading r\n"
   ]
  },
  {
   "cell_type": "code",
   "execution_count": 50,
   "id": "66014651-0178-42bc-b69d-8f67c6de89f0",
   "metadata": {},
   "outputs": [
    {
     "name": "stdout",
     "output_type": "stream",
     "text": [
      "Usage: thingy [OPTIONS]\n",
      "     -h                       Display this usage message\n",
      "     -H hostname              Hostname to connect to\n",
      "\n"
     ]
    }
   ],
   "source": [
    "print(\"\"\"\\\n",
    "Usage: thingy [OPTIONS]\n",
    "     -h                       Display this usage message\n",
    "     -H hostname              Hostname to connect to\n",
    "\"\"\")\n"
   ]
  },
  {
   "cell_type": "code",
   "execution_count": 52,
   "id": "e4ae12a6-3215-4481-bbf8-3d7eed7ca512",
   "metadata": {},
   "outputs": [
    {
     "data": {
      "text/plain": [
       "'unununium'"
      ]
     },
     "execution_count": 52,
     "metadata": {},
     "output_type": "execute_result"
    }
   ],
   "source": [
    "# Using + and *\n",
    "'Py' + 'thon'                    # explicit concatenation\n",
    "'un' * 3 + 'ium'                 # repetition"
   ]
  },
  {
   "cell_type": "code",
   "execution_count": 55,
   "id": "292a9d78-d697-49aa-8976-7eabe33fb8f6",
   "metadata": {},
   "outputs": [
    {
     "data": {
      "text/plain": [
       "'Put several together on one line.'"
      ]
     },
     "execution_count": 55,
     "metadata": {},
     "output_type": "execute_result"
    }
   ],
   "source": [
    "# Automatic literal concatenation (two string *literals* side‑by‑side)\n",
    "'Put several ' 'together on one line.'"
   ]
  },
  {
   "cell_type": "code",
   "execution_count": 58,
   "id": "39d52c3a-e3d8-40e9-8b98-a8757de2b6cf",
   "metadata": {},
   "outputs": [
    {
     "data": {
      "text/plain": [
       "'Python'"
      ]
     },
     "execution_count": 58,
     "metadata": {},
     "output_type": "execute_result"
    }
   ],
   "source": [
    "word = 'Python'\n",
    "\n",
    "# Indexing (0‑based)\n",
    "word[0]          # 'P'\n",
    "word[5]          # 'n'\n",
    "word[-1]         # last character 'n'\n",
    "word[-2]         # second‑last 'o'\n",
    "word[-6]         # 'P'\n",
    "\n",
    "# Slicing (end index is excluded)\n",
    "word[0:2]        # 'Py'\n",
    "word[2:5]        # 'tho'\n",
    "\n",
    "# Slice defaults\n",
    "word[:2]         # 'Py'   (start is 0)\n",
    "word[4:]         # 'on'   (end is len(word))\n",
    "word[:]          # 'Python' (full copy)\n"
   ]
  },
  {
   "cell_type": "code",
   "execution_count": 59,
   "id": "03f23706-2d6b-4d54-b04b-dcec9429f36f",
   "metadata": {},
   "outputs": [
    {
     "data": {
      "text/plain": [
       "'Jython'"
      ]
     },
     "execution_count": 59,
     "metadata": {},
     "output_type": "execute_result"
    }
   ],
   "source": [
    "word = 'Python'\n",
    "# word[0] = 'J'          # Uncomment -> TypeError: 'str' object does not support item assignment\n",
    "\n",
    "new_word = 'J' + word[1:]   # correct way to create a modified string\n",
    "new_word\n"
   ]
  },
  {
   "cell_type": "code",
   "execution_count": 60,
   "id": "14d5cfe3-2e18-4318-a6c5-4520386b4edc",
   "metadata": {},
   "outputs": [
    {
     "data": {
      "text/plain": [
       "6"
      ]
     },
     "execution_count": 60,
     "metadata": {},
     "output_type": "execute_result"
    }
   ],
   "source": [
    "len(word)        # 6\n"
   ]
  }
 ],
 "metadata": {
  "kernelspec": {
   "display_name": "Python 3",
   "language": "python",
   "name": "python3"
  },
  "language_info": {
   "codemirror_mode": {
    "name": "ipython",
    "version": 3
   },
   "file_extension": ".py",
   "mimetype": "text/x-python",
   "name": "python",
   "nbconvert_exporter": "python",
   "pygments_lexer": "ipython3",
   "version": "3.11.4"
  }
 },
 "nbformat": 4,
 "nbformat_minor": 5
}
