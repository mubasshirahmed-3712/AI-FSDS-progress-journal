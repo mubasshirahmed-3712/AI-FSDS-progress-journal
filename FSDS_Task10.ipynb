{
 "cells": [
  {
   "cell_type": "markdown",
   "id": "25159032",
   "metadata": {},
   "source": [
    "<h2 style=\"text-align: center;\">🔹 FSDS Task 10 – NumPy Crash Course & Built-in Functions</h2>\n",
    "\n",
    "### 👨‍💻 Prepared by: Mubasshir Ahmed  \n",
    "### 🕘 FSDS @10AM | Guided by: Senapati sir\n",
    "\n",
    "---\n",
    "\n",
    "### 📘 What This Notebook Covers:\n",
    "\n",
    "This notebook is a comprehensive walkthrough of **NumPy**, a core library for numerical computing in Python.  \n",
    "We’ll follow two official task PDFs and explore NumPy from **basic to advanced level**, including built-in functions and real-time examples.\n",
    "\n",
    "---\n",
    "\n",
    "### 📗 Topics Covered:\n",
    "\n",
    "1. 📌 Introduction to NumPy  \n",
    "2. 📌 Creating NumPy Arrays  \n",
    "3. 📌 Array Dimensions & Shapes  \n",
    "4. 📌 Array Indexing & Slicing  \n",
    "5. 📌 Array Operations (Arithmetic & Logical)  \n",
    "6. 📌 Universal Functions (ufuncs)  \n",
    "7. 📌 Built-in NumPy Functions  \n",
    "8. 📌 Random Module & Seeding  \n",
    "9. 📌 Aggregate Functions: min, max, sum, mean, etc.  \n",
    "10. 📌 Advanced Topics: reshape, flatten, stack, split, etc.  \n",
    "11. 📌 Broadcasting  \n",
    "12. 📌 Practical Examples & Summary\n",
    "\n",
    "---\n",
    "\n",
    "> ✅ Each section includes clean code blocks, inline output comments, and personalized examples.\n"
   ]
  },
  {
   "cell_type": "markdown",
   "id": "54b2423a",
   "metadata": {},
   "source": [
    "<h2 style=\"text-align: center;\">🔹 Section 1 – Introduction to NumPy</h2>\n",
    "\n",
    "NumPy (Numerical Python) is the foundational package for numerical computing in Python.  \n",
    "It provides support for:\n",
    "- Multidimensional arrays and matrices\n",
    "- Mathematical functions for array operations\n",
    "- Efficient broadcasting and vectorization\n",
    "\n",
    "We first import the library and check its version.\n"
   ]
  },
  {
   "cell_type": "code",
   "execution_count": 25,
   "id": "c22ce9a9",
   "metadata": {},
   "outputs": [
    {
     "name": "stdout",
     "output_type": "stream",
     "text": [
      "NumPy Version: 1.26.4\n"
     ]
    }
   ],
   "source": [
    "# Importing NumPy library\n",
    "import numpy as np\n",
    "\n",
    "# Checking the version of NumPy\n",
    "print(\"NumPy Version:\", np.__version__)  # ➤ NumPy Version: e.g., 1.26.4\n"
   ]
  },
  {
   "cell_type": "code",
   "execution_count": 26,
   "id": "c493d772",
   "metadata": {},
   "outputs": [
    {
     "name": "stdout",
     "output_type": "stream",
     "text": [
      "Time taken using Python list: 0.21401262283325195 seconds\n",
      "Time taken using NumPy array: 0.0020008087158203125 seconds\n"
     ]
    }
   ],
   "source": [
    "# Traditional Python List\n",
    "import time\n",
    "\n",
    "python_list = list(range(1, 1000001))\n",
    "start = time.time()\n",
    "python_result = [x * 2 for x in python_list]\n",
    "end = time.time()\n",
    "print(\"Time taken using Python list:\", end - start, \"seconds\")  # ➤ Slower\n",
    "\n",
    "# NumPy Array\n",
    "numpy_array = np.array(python_list)\n",
    "start = time.time()\n",
    "numpy_result = numpy_array * 2\n",
    "end = time.time()\n",
    "print(\"Time taken using NumPy array:\", end - start, \"seconds\")  # ➤ Faster\n"
   ]
  },
  {
   "cell_type": "markdown",
   "id": "24644f8f",
   "metadata": {},
   "source": [
    "<h2 style=\"text-align: center;\">🔹 Section 2 – Creating NumPy Arrays</h2>\n",
    "\n",
    "NumPy arrays can be created using the `np.array()` function or other specialized functions like `arange()`, `zeros()`, `ones()`, `linspace()`, etc.\n",
    "\n",
    "We’ll explore:\n",
    "- Creating 1D, 2D, and 3D arrays\n",
    "- Specifying data types\n",
    "- Using array-creation shortcuts\n"
   ]
  },
  {
   "cell_type": "code",
   "execution_count": 27,
   "id": "7e668b5a",
   "metadata": {},
   "outputs": [
    {
     "name": "stdout",
     "output_type": "stream",
     "text": [
      "1D Array: [10 20 30 40]\n",
      "2D Array:\n",
      " [[1 2]\n",
      " [3 4]]\n",
      "3D Array:\n",
      " [[[1 2]\n",
      "  [3 4]]\n",
      "\n",
      " [[5 6]\n",
      "  [7 8]]]\n"
     ]
    }
   ],
   "source": [
    "# Creating a 1D array\n",
    "arr_1d = np.array([10, 20, 30, 40])\n",
    "print(\"1D Array:\", arr_1d)  # ➤ [10 20 30 40]\n",
    "\n",
    "# Creating a 2D array\n",
    "arr_2d = np.array([[1, 2], [3, 4]])\n",
    "print(\"2D Array:\\n\", arr_2d)  \n",
    "# ➤ [[1 2]\n",
    "#     [3 4]]\n",
    "\n",
    "# Creating a 3D array\n",
    "arr_3d = np.array(\n",
    "    [\n",
    "    [[1, 2], [3, 4]],\n",
    "    [[5, 6], [7, 8]]\n",
    "    ]\n",
    "    )\n",
    "print(\"3D Array:\\n\", arr_3d)  \n",
    "# ➤ [[[1 2]\n",
    "#      [3 4]]\n",
    "#     [[5 6]\n",
    "#      [7 8]]]\n"
   ]
  },
  {
   "cell_type": "code",
   "execution_count": 28,
   "id": "b3c6bccc",
   "metadata": {},
   "outputs": [
    {
     "name": "stdout",
     "output_type": "stream",
     "text": [
      "Float Array: [1. 2. 3.]\n"
     ]
    }
   ],
   "source": [
    "# Creating array with float data type\n",
    "float_array = np.array([1, 2, 3], dtype=float)\n",
    "print(\"Float Array:\", float_array)  # ➤ [1. 2. 3.]\n"
   ]
  },
  {
   "cell_type": "code",
   "execution_count": 29,
   "id": "c5f27b6c",
   "metadata": {},
   "outputs": [
    {
     "name": "stdout",
     "output_type": "stream",
     "text": [
      "Array of zeros: [0. 0. 0. 0. 0.]\n",
      "Array of ones: [[1. 1. 1.]\n",
      " [1. 1. 1.]]\n",
      "Empty array (uninitialized): [4.24399158e-314 8.48798317e-314 1.27319747e-313 1.69759663e-313]\n",
      "Range array: [0 2 4 6 8]\n",
      "Linspace array: [0.   0.25 0.5  0.75 1.  ]\n"
     ]
    }
   ],
   "source": [
    "print(\"Array of zeros:\", np.zeros(5))  # ➤ [0. 0. 0. 0. 0.]\n",
    "\n",
    "print(\"Array of ones:\", np.ones((2, 3)))  \n",
    "# ➤ [[1. 1. 1.]\n",
    "#     [1. 1. 1.]]\n",
    "\n",
    "print(\"Empty array (uninitialized):\", np.empty(4))  \n",
    "# ➤ [random small numbers]\n",
    "\n",
    "print(\"Range array:\", np.arange(0, 10, 2))  # ➤ [0 2 4 6 8]\n",
    "\n",
    "print(\"Linspace array:\", np.linspace(0, 1, 5))  # ➤ [0.   0.25 0.5  0.75 1.  ]\n"
   ]
  },
  {
   "cell_type": "markdown",
   "id": "72ace28e",
   "metadata": {},
   "source": [
    "<h2 style=\"text-align: center;\">🔹 Section 3 – Array Dimensions & Shapes</h2>\n",
    "\n",
    "Understanding the shape and dimensionality of NumPy arrays is key to working with them efficiently.  \n",
    "In this section, we’ll explore:\n",
    "- `ndim` → number of dimensions\n",
    "- `shape` → number of elements in each dimension\n",
    "- `size` → total number of elements\n",
    "- `reshape()` → changing the structure of arrays\n"
   ]
  },
  {
   "cell_type": "code",
   "execution_count": 30,
   "id": "d75a68d4",
   "metadata": {},
   "outputs": [
    {
     "name": "stdout",
     "output_type": "stream",
     "text": [
      "Array:\n",
      " [[1 2 3]\n",
      " [4 5 6]]\n",
      "Dimensions (ndim): 2\n",
      "Shape: (2, 3)\n",
      "Size: 6\n",
      "Data type: int32\n"
     ]
    }
   ],
   "source": [
    "arr = np.array([[1, 2, 3], [4, 5, 6]])\n",
    "\n",
    "print(\"Array:\\n\", arr)\n",
    "print(\"Dimensions (ndim):\", arr.ndim)     # ➤ 2\n",
    "print(\"Shape:\", arr.shape)                # ➤ (2, 3)\n",
    "print(\"Size:\", arr.size)                  # ➤ 6\n",
    "print(\"Data type:\", arr.dtype)            # ➤ int64 or int32 depending on system\n"
   ]
  },
  {
   "cell_type": "code",
   "execution_count": 31,
   "id": "4a0ca8af",
   "metadata": {},
   "outputs": [
    {
     "name": "stdout",
     "output_type": "stream",
     "text": [
      "Original 1D array: [ 0  1  2  3  4  5  6  7  8  9 10 11]\n",
      "Reshaped to 3x4:\n",
      " [[ 0  1  2  3]\n",
      " [ 4  5  6  7]\n",
      " [ 8  9 10 11]]\n"
     ]
    }
   ],
   "source": [
    "# Reshaping a 1D array to 2D\n",
    "arr_1d = np.arange(12)\n",
    "print(\"Original 1D array:\", arr_1d)\n",
    "\n",
    "arr_reshaped = arr_1d.reshape((3, 4))\n",
    "print(\"Reshaped to 3x4:\\n\", arr_reshaped)\n"
   ]
  },
  {
   "cell_type": "code",
   "execution_count": 32,
   "id": "20578d02",
   "metadata": {},
   "outputs": [
    {
     "name": "stdout",
     "output_type": "stream",
     "text": [
      "Reshaped 5x3 Array:\n",
      " [[ 0  1  2]\n",
      " [ 3  4  5]\n",
      " [ 6  7  8]\n",
      " [ 9 10 11]\n",
      " [12 13 14]]\n"
     ]
    }
   ],
   "source": [
    "reshaped = np.arange(15).reshape(5, 3)\n",
    "print(\"Reshaped 5x3 Array:\\n\", reshaped)\n"
   ]
  },
  {
   "cell_type": "markdown",
   "id": "420e132b",
   "metadata": {},
   "source": [
    "<h2 style=\"text-align: center;\">🔹 Section 4 – Array Indexing & Slicing</h2>\n",
    "\n",
    "Just like Python lists, NumPy arrays support:\n",
    "- **Indexing**: Accessing individual elements\n",
    "- **Slicing**: Accessing ranges/sub-arrays\n",
    "- Works on 1D, 2D, and higher-dimensional arrays\n",
    "\n",
    "We’ll now explore both techniques.\n"
   ]
  },
  {
   "cell_type": "code",
   "execution_count": 33,
   "id": "263db93d",
   "metadata": {},
   "outputs": [
    {
     "name": "stdout",
     "output_type": "stream",
     "text": [
      "Element at index 0: 10\n",
      "Element at index 3: 40\n",
      "Last element (negative index): 50\n"
     ]
    }
   ],
   "source": [
    "#Indexing in 1D Arrays\n",
    "arr = np.array([10, 20, 30, 40, 50])\n",
    "\n",
    "print(\"Element at index 0:\", arr[0])     # ➤ 10\n",
    "print(\"Element at index 3:\", arr[3])     # ➤ 40\n",
    "print(\"Last element (negative index):\", arr[-1])  # ➤ 50\n"
   ]
  },
  {
   "cell_type": "code",
   "execution_count": 34,
   "id": "d047dce0",
   "metadata": {},
   "outputs": [
    {
     "name": "stdout",
     "output_type": "stream",
     "text": [
      "Element at row 0, col 2: 3\n",
      "Element at row 1, col 0: 4\n"
     ]
    }
   ],
   "source": [
    "#Indexing in 2D Arrays\n",
    "arr_2d = np.array([[1, 2, 3], [4, 5, 6]])\n",
    "\n",
    "print(\"Element at row 0, col 2:\", arr_2d[0, 2])  # ➤ 3\n",
    "print(\"Element at row 1, col 0:\", arr_2d[1, 0])  # ➤ 4\n"
   ]
  },
  {
   "cell_type": "code",
   "execution_count": 35,
   "id": "36c341b4",
   "metadata": {},
   "outputs": [
    {
     "name": "stdout",
     "output_type": "stream",
     "text": [
      "Elements from index 1 to 4: [20 30 40 50]\n",
      "Every 2nd element: [10 30 50]\n",
      "Reverse array: [60 50 40 30 20 10]\n"
     ]
    }
   ],
   "source": [
    "#  Slicing in 1D Arrays\n",
    "arr = np.array([10, 20, 30, 40, 50, 60])\n",
    "\n",
    "print(\"Elements from index 1 to 4:\", arr[1:5])      # ➤ [20 30 40 50]\n",
    "print(\"Every 2nd element:\", arr[::2])              # ➤ [10 30 50]\n",
    "print(\"Reverse array:\", arr[::-1])                 # ➤ [60 50 40 30 20 10]\n"
   ]
  },
  {
   "cell_type": "code",
   "execution_count": 36,
   "id": "e55dc687",
   "metadata": {},
   "outputs": [
    {
     "name": "stdout",
     "output_type": "stream",
     "text": [
      "First 2 rows:\n",
      " [[1 2 3]\n",
      " [4 5 6]]\n",
      "First 2 columns:\n",
      " [[1 2]\n",
      " [4 5]\n",
      " [7 8]]\n",
      "Bottom-right 2x2 block:\n",
      " [[5 6]\n",
      " [8 9]]\n"
     ]
    }
   ],
   "source": [
    "# Slicing a 2D array\n",
    "arr_2d = np.array([[1, 2, 3], [4, 5, 6], [7, 8, 9]])\n",
    "\n",
    "print(\"First 2 rows:\\n\", arr_2d[:2])               \n",
    "# ➤ [[1 2 3]\n",
    "#     [4 5 6]]\n",
    "\n",
    "print(\"First 2 columns:\\n\", arr_2d[:, :2])         \n",
    "# ➤ [[1 2]\n",
    "#     [4 5]\n",
    "#     [7 8]]\n",
    "\n",
    "print(\"Bottom-right 2x2 block:\\n\", arr_2d[1:, 1:])  \n",
    "# ➤ [[5 6]\n",
    "#     [8 9]]\n"
   ]
  },
  {
   "cell_type": "markdown",
   "id": "3987339f",
   "metadata": {},
   "source": [
    "<h2 style=\"text-align: center;\">🔹 Section 5 – Array Arithmetic & Logical Operations</h2>\n",
    "\n",
    "NumPy allows element-wise operations on arrays, just like mathematical expressions.  \n",
    "These operations are **vectorized**, making them faster than Python loops.\n",
    "\n",
    "We’ll cover:\n",
    "- Arithmetic operations (`+`, `-`, `*`, `/`, `**`)\n",
    "- Comparison operations (`==`, `!=`, `>`, `<`, etc.)\n",
    "- Logical operations (`&`, `|`, `~`)\n"
   ]
  },
  {
   "cell_type": "code",
   "execution_count": 38,
   "id": "e3f9ca8e",
   "metadata": {},
   "outputs": [
    {
     "name": "stdout",
     "output_type": "stream",
     "text": [
      "Addition: [5 7 9]\n",
      "Subtraction: [3 3 3]\n",
      "Multiplication: [ 4 10 18]\n",
      "Division: [4.  2.5 2. ]\n",
      "Exponentiation: [1 4 9]\n"
     ]
    }
   ],
   "source": [
    "#  Arithmetic Operation \n",
    "arr1 = np.array([1, 2, 3])\n",
    "arr2 = np.array([4, 5, 6])\n",
    "\n",
    "print(\"Addition:\", arr1 + arr2)         # ➤ [5 7 9]\n",
    "print(\"Subtraction:\", arr2 - arr1)      # ➤ [3 3 3]\n",
    "print(\"Multiplication:\", arr1 * arr2)   # ➤ [ 4 10 18]\n",
    "print(\"Division:\", arr2 / arr1)         # ➤ [4. 2.5 2.]\n",
    "print(\"Exponentiation:\", arr1 ** 2)     # ➤ [1 4 9]\n"
   ]
  },
  {
   "cell_type": "code",
   "execution_count": 39,
   "id": "6c215b31",
   "metadata": {},
   "outputs": [
    {
     "name": "stdout",
     "output_type": "stream",
     "text": [
      "Equal: [False False False]\n",
      "Not Equal: [ True  True  True]\n",
      "Greater: [ True  True  True]\n"
     ]
    }
   ],
   "source": [
    "# Comparison Operations\n",
    "print(\"Equal:\", arr1 == arr2)       # ➤ [False False False]\n",
    "print(\"Not Equal:\", arr1 != arr2)   # ➤ [ True  True  True]\n",
    "print(\"Greater:\", arr2 > arr1)      # ➤ [ True  True  True]\n"
   ]
  },
  {
   "cell_type": "code",
   "execution_count": 41,
   "id": "847f4caf",
   "metadata": {},
   "outputs": [
    {
     "name": "stdout",
     "output_type": "stream",
     "text": [
      "Logical AND: [False  True  True]\n",
      "Logical OR: [False False  True]\n",
      "Logical NOT arr1 > 2: [ True  True False]\n"
     ]
    }
   ],
   "source": [
    "# Logical Operations\n",
    "# Logical AND (element-wise)\n",
    "print(\"Logical AND:\", np.logical_and(arr1 > 0, arr2 > 4))  \n",
    "# ➤ [False  True  True]\n",
    "\n",
    "# Logical OR\n",
    "print(\"Logical OR:\", np.logical_or(arr1 > 2, arr2 > 5))    \n",
    "# ➤ [False False  True]\n",
    "\n",
    "# Logical NOT\n",
    "print(\"Logical NOT arr1 > 2:\", np.logical_not(arr1 > 2))   \n",
    "# ➤ [ True  True False]\n"
   ]
  },
  {
   "cell_type": "markdown",
   "id": "f0ec0a8b",
   "metadata": {},
   "source": [
    "<h2 style=\"text-align: center;\">🔹 Section 6 – NumPy Built-in Functions</h2>\n",
    "\n",
    "NumPy comes with many powerful built-in functions that simplify numeric computation.  \n",
    "We’ll explore:\n",
    "- Aggregation functions like `sum()`, `min()`, `max()`, `mean()`, `std()`\n",
    "- Axis-specific operations\n",
    "- Rounding, exponentials, and square roots\n"
   ]
  },
  {
   "cell_type": "code",
   "execution_count": 42,
   "id": "f00710d3",
   "metadata": {},
   "outputs": [
    {
     "name": "stdout",
     "output_type": "stream",
     "text": [
      "Sum of all elements: 21\n",
      "Minimum value: 1\n",
      "Maximum value: 6\n",
      "Mean value: 3.5\n",
      "Standard deviation: 1.707825127659933\n"
     ]
    }
   ],
   "source": [
    "# aggregation functions like `sum()`, `min()`, `max()`, `mean()`, `std()`\n",
    "# Aggregation functions are used to compute summary statistics over arrays.\n",
    "\n",
    "arr = np.array([[1, 2, 3], [4, 5, 6]])\n",
    "\n",
    "print(\"Sum of all elements:\", np.sum(arr))           # ➤ 21\n",
    "print(\"Minimum value:\", np.min(arr))                 # ➤ 1\n",
    "print(\"Maximum value:\", np.max(arr))                 # ➤ 6\n",
    "print(\"Mean value:\", np.mean(arr))                   # ➤ 3.5\n",
    "print(\"Standard deviation:\", np.std(arr))            # ➤ 1.7078...\n"
   ]
  },
  {
   "cell_type": "code",
   "execution_count": 43,
   "id": "bca12f4f",
   "metadata": {},
   "outputs": [
    {
     "name": "stdout",
     "output_type": "stream",
     "text": [
      "Row-wise sum: [ 6 15]\n",
      "Column-wise sum: [5 7 9]\n"
     ]
    }
   ],
   "source": [
    "print(\"Row-wise sum:\", np.sum(arr, axis=1))          # ➤ [ 6 15]\n",
    "print(\"Column-wise sum:\", np.sum(arr, axis=0))       # ➤ [5 7 9]"
   ]
  },
  {
   "cell_type": "code",
   "execution_count": 44,
   "id": "8b792cfa",
   "metadata": {},
   "outputs": [
    {
     "name": "stdout",
     "output_type": "stream",
     "text": [
      "Rounded values: [1. 2. 4.]\n",
      "Square roots: [1.09544512 1.58113883 1.92353841]\n",
      "Exponentials: [ 3.32011692 12.18249396 40.44730436]\n"
     ]
    }
   ],
   "source": [
    "arr = np.array([1.2, 2.5, 3.7])\n",
    "\n",
    "print(\"Rounded values:\", np.round(arr))              # ➤ [1. 2. 4.]\n",
    "print(\"Square roots:\", np.sqrt(arr))                 # ➤ [1.095 1.581 1.923]\n",
    "print(\"Exponentials:\", np.exp(arr))                  # ➤ [ 3.32 12.18 40.45]\n"
   ]
  },
  {
   "cell_type": "markdown",
   "id": "295b3af1",
   "metadata": {},
   "source": [
    "<h2 style=\"text-align: center;\">🔹 Section 7 – Array Copying & Views</h2>\n",
    "\n",
    "In NumPy, assignment doesn’t create a new copy of an array — it creates a **view** (reference).  \n",
    "To truly copy an array, use the `.copy()` method.\n",
    "\n",
    "We'll explore:\n",
    "- Difference between views and copies\n",
    "- How modifying one affects the other\n"
   ]
  },
  {
   "cell_type": "code",
   "execution_count": 45,
   "id": "cb5e326d",
   "metadata": {},
   "outputs": [
    {
     "name": "stdout",
     "output_type": "stream",
     "text": [
      "Original after modifying view: [99 20 30]\n"
     ]
    }
   ],
   "source": [
    "original = np.array([10, 20, 30])\n",
    "view = original  # No copy, just a reference\n",
    "\n",
    "view[0] = 99\n",
    "print(\"Original after modifying view:\", original)   # ➤ [99 20 30]\n"
   ]
  },
  {
   "cell_type": "code",
   "execution_count": 46,
   "id": "11cc4b9f",
   "metadata": {},
   "outputs": [
    {
     "name": "stdout",
     "output_type": "stream",
     "text": [
      "Original after modifying copy: [10 20 30]\n",
      "Modified copy: [999  20  30]\n"
     ]
    }
   ],
   "source": [
    "original = np.array([10, 20, 30])\n",
    "copy_array = original.copy()\n",
    "\n",
    "copy_array[0] = 999\n",
    "print(\"Original after modifying copy:\", original)     # ➤ [10 20 30]\n",
    "print(\"Modified copy:\", copy_array)                   # ➤ [999  20  30]\n"
   ]
  },
  {
   "cell_type": "code",
   "execution_count": 47,
   "id": "ac08dcd4",
   "metadata": {},
   "outputs": [
    {
     "name": "stdout",
     "output_type": "stream",
     "text": [
      "Original 2D:\n",
      " [[1 2]\n",
      " [3 4]]\n",
      "Copied 2D:\n",
      " [[99  2]\n",
      " [ 3  4]]\n"
     ]
    }
   ],
   "source": [
    "arr_2d = np.array([[1, 2], [3, 4]])\n",
    "copy_2d = arr_2d.copy()\n",
    "\n",
    "copy_2d[0, 0] = 99\n",
    "print(\"Original 2D:\\n\", arr_2d)        # ➤ [[1 2], [3 4]]\n",
    "print(\"Copied 2D:\\n\", copy_2d)         # ➤ [[99 2], [3 4]]\n"
   ]
  },
  {
   "cell_type": "markdown",
   "id": "846ac559",
   "metadata": {},
   "source": [
    "<h2 style=\"text-align: center;\">🔹 Section 8 – Reshape, Flatten & Transpose</h2>\n",
    "\n",
    "NumPy arrays offer powerful ways to manipulate their structure without changing data:\n",
    "- `reshape()` changes shape\n",
    "- `flatten()` converts multi-D to 1D\n",
    "- `transpose()` swaps axes (rows ↔ columns)\n"
   ]
  },
  {
   "cell_type": "code",
   "execution_count": 48,
   "id": "c2e54f4f",
   "metadata": {},
   "outputs": [
    {
     "name": "stdout",
     "output_type": "stream",
     "text": [
      "Original: [1 2 3 4 5 6]\n",
      "Reshaped:\n",
      " [[1 2 3]\n",
      " [4 5 6]]\n"
     ]
    }
   ],
   "source": [
    "arr = np.array([1, 2, 3, 4, 5, 6])\n",
    "reshaped = arr.reshape(2, 3)  # Convert 1D to 2x3 2D array\n",
    "\n",
    "print(\"Original:\", arr)           \n",
    "# ➤ [1 2 3 4 5 6]\n",
    "\n",
    "print(\"Reshaped:\\n\", reshaped)    \n",
    "# ➤ [[1 2 3]\n",
    "#     [4 5 6]]\n"
   ]
  },
  {
   "cell_type": "code",
   "execution_count": 49,
   "id": "fea78d9d",
   "metadata": {},
   "outputs": [
    {
     "name": "stdout",
     "output_type": "stream",
     "text": [
      "Flattened array: [10 20 30 40]\n"
     ]
    }
   ],
   "source": [
    "arr_2d = np.array([[10, 20], [30, 40]])\n",
    "flat = arr_2d.flatten()\n",
    "\n",
    "print(\"Flattened array:\", flat)      \n",
    "# ➤ [10 20 30 40]\n"
   ]
  },
  {
   "cell_type": "code",
   "execution_count": 50,
   "id": "02d9b72a",
   "metadata": {},
   "outputs": [
    {
     "name": "stdout",
     "output_type": "stream",
     "text": [
      "Original:\n",
      " [[1 2 3]\n",
      " [4 5 6]]\n",
      "Transposed:\n",
      " [[1 4]\n",
      " [2 5]\n",
      " [3 6]]\n"
     ]
    }
   ],
   "source": [
    "arr_2d = np.array([[1, 2, 3], [4, 5, 6]])\n",
    "transposed = arr_2d.T\n",
    "\n",
    "print(\"Original:\\n\", arr_2d)\n",
    "# ➤ [[1 2 3]\n",
    "#     [4 5 6]]\n",
    "\n",
    "print(\"Transposed:\\n\", transposed)\n",
    "# ➤ [[1 4]\n",
    "#     [2 5]\n",
    "#     [3 6]]\n"
   ]
  },
  {
   "cell_type": "markdown",
   "id": "acb0dc73",
   "metadata": {},
   "source": [
    "<h2 style=\"text-align: center;\">🔹 Section 9 – Stacking and Splitting Arrays</h2>\n",
    "\n",
    "NumPy allows combining and breaking arrays using functions like:\n",
    "- `hstack()` → horizontal stacking\n",
    "- `vstack()` → vertical stacking\n",
    "- `split()` / `hsplit()` / `vsplit()` → for breaking arrays\n"
   ]
  },
  {
   "cell_type": "code",
   "execution_count": 51,
   "id": "86d72aba",
   "metadata": {},
   "outputs": [
    {
     "name": "stdout",
     "output_type": "stream",
     "text": [
      "Horizontal Stack: [1 2 3 4 5 6]\n",
      "Vertical Stack:\n",
      " [[1 2 3]\n",
      " [4 5 6]]\n"
     ]
    }
   ],
   "source": [
    "a = np.array([1, 2, 3])\n",
    "b = np.array([4, 5, 6])\n",
    "\n",
    "# Horizontal stack (1D arrays become wider)\n",
    "h = np.hstack((a, b))\n",
    "print(\"Horizontal Stack:\", h)          \n",
    "# ➤ [1 2 3 4 5 6]\n",
    "\n",
    "# Vertical stack (1D arrays become rows)\n",
    "v = np.vstack((a, b))\n",
    "print(\"Vertical Stack:\\n\", v)          \n",
    "# ➤ [[1 2 3]\n",
    "#     [4 5 6]]\n"
   ]
  },
  {
   "cell_type": "code",
   "execution_count": 52,
   "id": "57809a3e",
   "metadata": {},
   "outputs": [
    {
     "name": "stdout",
     "output_type": "stream",
     "text": [
      "Stacked along depth (axis=2):\n",
      " [[[1 5]\n",
      "  [2 6]]\n",
      "\n",
      " [[3 7]\n",
      "  [4 8]]]\n"
     ]
    }
   ],
   "source": [
    "x = np.array([[1, 2], [3, 4]])\n",
    "y = np.array([[5, 6], [7, 8]])\n",
    "\n",
    "# Stack along a new third axis\n",
    "print(\"Stacked along depth (axis=2):\\n\", np.dstack((x, y)))\n",
    "# ➤ [[[1 5]\n",
    "#      [2 6]]\n",
    "#     [[3 7]\n",
    "#      [4 8]]]\n"
   ]
  },
  {
   "cell_type": "code",
   "execution_count": 53,
   "id": "b2707867",
   "metadata": {},
   "outputs": [
    {
     "name": "stdout",
     "output_type": "stream",
     "text": [
      "Split into 3 parts: [array([10, 20]), array([30, 40]), array([50, 60])]\n"
     ]
    }
   ],
   "source": [
    "arr = np.array([10, 20, 30, 40, 50, 60])\n",
    "splitted = np.split(arr, 3)\n",
    "print(\"Split into 3 parts:\", splitted)   \n",
    "# ➤ [array([10, 20]), array([30, 40]), array([50, 60])]\n"
   ]
  },
  {
   "cell_type": "markdown",
   "id": "d849acd0",
   "metadata": {},
   "source": [
    "<h2 style=\"text-align: center;\">🔹 Section 10 – NumPy Random Module</h2>\n",
    "\n",
    "NumPy provides a submodule called `numpy.random` to generate random numbers.  \n",
    "We’ll cover:\n",
    "- Generating random integers, floats\n",
    "- Random sampling from arrays\n",
    "- Seeding for reproducibility\n"
   ]
  },
  {
   "cell_type": "code",
   "execution_count": 54,
   "id": "cb6fc0d7",
   "metadata": {},
   "outputs": [
    {
     "name": "stdout",
     "output_type": "stream",
     "text": [
      "Random Integers: [4 5 5 1 2]\n",
      "Random Floats: [0.88353909 0.53039152 0.5639873 ]\n"
     ]
    }
   ],
   "source": [
    "# Random integers between 1 and 10 (excluding 10)\n",
    "rand_ints = np.random.randint(1, 10, size=5)\n",
    "print(\"Random Integers:\", rand_ints)  \n",
    "# ➤ e.g., [2 7 1 4 9]\n",
    "\n",
    "# Random floats between 0 and 1\n",
    "rand_floats = np.random.rand(3)\n",
    "print(\"Random Floats:\", rand_floats)  \n",
    "# ➤ e.g., [0.12 0.64 0.78]\n"
   ]
  },
  {
   "cell_type": "code",
   "execution_count": 61,
   "id": "38218f68",
   "metadata": {},
   "outputs": [
    {
     "name": "stdout",
     "output_type": "stream",
     "text": [
      "Random sample: [500 400 200]\n"
     ]
    }
   ],
   "source": [
    "arr = np.array([100, 200, 300, 400, 500])\n",
    "sample = np.random.choice(arr, size=3)\n",
    "print(\"Random sample:\", sample)        \n",
    "# ➤ e.g., [200 500 100]\n"
   ]
  },
  {
   "cell_type": "code",
   "execution_count": 85,
   "id": "90812a9d",
   "metadata": {},
   "outputs": [
    {
     "name": "stdout",
     "output_type": "stream",
     "text": [
      "Same output every time: [0.37454012 0.95071431 0.73199394]\n"
     ]
    }
   ],
   "source": [
    "np.random.seed(42)\n",
    "print(\"Same output every time:\", np.random.rand(3))  \n",
    "# ➤ [0.3745 0.9507 0.7319] – fixed due to seed\n"
   ]
  },
  {
   "cell_type": "markdown",
   "id": "011ba568",
   "metadata": {},
   "source": [
    "<h2 style=\"text-align: center;\">🔹 Section 11 – NumPy Math & Utility Functions</h2>\n",
    "\n",
    "NumPy provides many built-in math and utility functions, including:\n",
    "- `np.sqrt()`, `np.exp()`, `np.log()`, `np.sin()`, `np.cos()`\n",
    "- `np.unique()`, `np.sort()`, `np.where()`, `np.count_nonzero()`\n"
   ]
  },
  {
   "cell_type": "code",
   "execution_count": 87,
   "id": "ac258c8f",
   "metadata": {},
   "outputs": [
    {
     "name": "stdout",
     "output_type": "stream",
     "text": [
      "Square roots: [1. 2. 3. 4.]\n",
      "Exponential: [2.71828183e+00 5.45981500e+01 8.10308393e+03 8.88611052e+06]\n",
      "Natural log: [0.         1.38629436 2.19722458 2.77258872]\n"
     ]
    }
   ],
   "source": [
    "# Math Functions\n",
    "arr = np.array([1, 4, 9, 16])\n",
    "\n",
    "print(\"Square roots:\", np.sqrt(arr))          # ➤ [1. 2. 3. 4.]\n",
    "print(\"Exponential:\", np.exp(arr))            # ➤ e.g., [2.7 54.6 ...]\n",
    "print(\"Natural log:\", np.log(arr))            # ➤ [0. 1.38 2.19 2.77]\n"
   ]
  },
  {
   "cell_type": "code",
   "execution_count": 86,
   "id": "a81e0e4b",
   "metadata": {},
   "outputs": [
    {
     "name": "stdout",
     "output_type": "stream",
     "text": [
      "sin: [0.0000000e+00 1.0000000e+00 1.2246468e-16]\n",
      "cos: [ 1.000000e+00  6.123234e-17 -1.000000e+00]\n"
     ]
    }
   ],
   "source": [
    "# Trigonometric Functions\n",
    "angles = np.array([0, np.pi/2, np.pi])\n",
    "print(\"sin:\", np.sin(angles))                 # ➤ [0. 1. 0.]\n",
    "print(\"cos:\", np.cos(angles))                 # ➤ [1. 0. -1.]\n"
   ]
  },
  {
   "cell_type": "code",
   "execution_count": 88,
   "id": "33c36496",
   "metadata": {},
   "outputs": [
    {
     "name": "stdout",
     "output_type": "stream",
     "text": [
      "Unique values: [2 4 5 7]\n",
      "Sorted array: [2 2 2 4 5 7 7]\n",
      "Index of 5s: (array([4], dtype=int64),)\n",
      "Count of non-zero elements: 7\n"
     ]
    }
   ],
   "source": [
    "# Utility Functions\n",
    "arr = np.array([4, 2, 7, 2, 5, 7, 2])\n",
    "\n",
    "print(\"Unique values:\", np.unique(arr))       # ➤ [2 4 5 7]\n",
    "print(\"Sorted array:\", np.sort(arr))          # ➤ [2 2 2 4 5 7 7]\n",
    "print(\"Index of 5s:\", np.where(arr == 5))     # ➤ (array([4]),)\n",
    "print(\"Count of non-zero elements:\", np.count_nonzero(arr))  \n",
    "# ➤ 7\n"
   ]
  },
  {
   "cell_type": "code",
   "execution_count": 89,
   "id": "c9cbbc01",
   "metadata": {},
   "outputs": [
    {
     "name": "stdout",
     "output_type": "stream",
     "text": [
      "Unique values: [2 4 5 7]\n",
      "Sorted array: [2 2 2 4 5 7 7]\n",
      "Index of 5s: (array([4], dtype=int64),)\n",
      "Count of non-zero elements: 7\n"
     ]
    }
   ],
   "source": [
    "arr = np.array([4, 2, 7, 2, 5, 7, 2])\n",
    "\n",
    "print(\"Unique values:\", np.unique(arr))       # ➤ [2 4 5 7]\n",
    "print(\"Sorted array:\", np.sort(arr))          # ➤ [2 2 2 4 5 7 7]\n",
    "print(\"Index of 5s:\", np.where(arr == 5))     # ➤ (array([4]),)\n",
    "print(\"Count of non-zero elements:\", np.count_nonzero(arr))  \n",
    "# ➤ 7\n"
   ]
  }
 ],
 "metadata": {
  "kernelspec": {
   "display_name": "base",
   "language": "python",
   "name": "python3"
  },
  "language_info": {
   "codemirror_mode": {
    "name": "ipython",
    "version": 3
   },
   "file_extension": ".py",
   "mimetype": "text/x-python",
   "name": "python",
   "nbconvert_exporter": "python",
   "pygments_lexer": "ipython3",
   "version": "3.12.7"
  }
 },
 "nbformat": 4,
 "nbformat_minor": 5
}
