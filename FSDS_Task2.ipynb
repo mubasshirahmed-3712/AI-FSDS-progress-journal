{
 "cells": [
  {
   "cell_type": "markdown",
   "id": "3ae12ab8",
   "metadata": {},
   "source": [
    "<h2 style=\"text-align: center;\">1️⃣ Basic Print Statements</h2>\n"
   ]
  },
  {
   "cell_type": "code",
   "execution_count": 5,
   "id": "860c2bb1",
   "metadata": {},
   "outputs": [
    {
     "name": "stdout",
     "output_type": "stream",
     "text": [
      "10\n",
      "20\n",
      "10 20\n",
      "python\n",
      "10 20 python\n"
     ]
    }
   ],
   "source": [
    "# Let's print some simple values using Python's print() function\n",
    "\n",
    "print(10)                # Just printing a number → 10\n",
    "print(20)                # Another number → 20\n",
    "print(10, 20)            # Printing multiple numbers → 10 20\n",
    "print('python')          # Printing a string → python\n",
    "print(10, 20, 'python')  # Mix of numbers and string → 10 20 python\n"
   ]
  },
  {
   "cell_type": "markdown",
   "id": "32e443b2",
   "metadata": {},
   "source": [
    "<h2 style=\"text-align: center;\">2️⃣ Using `.format()` Method</h2>\n"
   ]
  },
  {
   "cell_type": "code",
   "execution_count": 6,
   "id": "55cc889a",
   "metadata": {},
   "outputs": [
    {
     "name": "stdout",
     "output_type": "stream",
     "text": [
      "The addition of 20 and 30 is= 50\n"
     ]
    }
   ],
   "source": [
    "# Let's format a string by inserting variables using the .format() method\n",
    "\n",
    "num1 = 20\n",
    "num2 = 30\n",
    "add = num1 + num2\n",
    "\n",
    "# Inserting values inside curly braces\n",
    "print('The addition of {} and {} is= {}'.format(num1, num2, add))\n",
    "# Output: The addition of 20 and 30 is= 50\n"
   ]
  },
  {
   "cell_type": "code",
   "execution_count": 7,
   "id": "7f0709e5",
   "metadata": {},
   "outputs": [
    {
     "name": "stdout",
     "output_type": "stream",
     "text": [
      "My name is Python, and I am 20 years old from hyd\n"
     ]
    }
   ],
   "source": [
    "# Let's create a personalized message using format()\n",
    "\n",
    "name = 'Python'\n",
    "age = 20\n",
    "city = 'hyd'\n",
    "\n",
    "# Inserting multiple variables into the sentence\n",
    "print('My name is {}, and I am {} years old from {}'.format(name, age, city))\n",
    "# Output: My name is Python, and I am 20 years old from hyd\n"
   ]
  },
  {
   "cell_type": "markdown",
   "id": "615a2503",
   "metadata": {},
   "source": [
    "<h2 style=\"text-align: center;\">3️⃣ Using f-Strings</h2>\n"
   ]
  },
  {
   "cell_type": "code",
   "execution_count": 10,
   "id": "f405f14f",
   "metadata": {},
   "outputs": [
    {
     "name": "stdout",
     "output_type": "stream",
     "text": [
      "The addition of 20 and 30 is= 50\n"
     ]
    }
   ],
   "source": [
    "# f-Strings provide a shorter and more readable way to format strings\n",
    "\n",
    "num1 = 20\n",
    "num2 = 30\n",
    "add = num1 + num2\n",
    "\n",
    "# f-strings are prefixed with 'f' and variables are directly placed in {}\n",
    "print(f'The addition of {num1} and {num2} is= {add}')\n",
    "# Output: The addition of 20 and 30 is= 50\n"
   ]
  },
  {
   "cell_type": "code",
   "execution_count": 12,
   "id": "fd7e9f43",
   "metadata": {},
   "outputs": [
    {
     "name": "stdout",
     "output_type": "stream",
     "text": [
      "Hello! My name is Python, and I am 20 years old from hyd.\n"
     ]
    }
   ],
   "source": [
    "name = 'Python'\n",
    "age = 20\n",
    "city = 'hyd'\n",
    "\n",
    "print(f'Hello! My name is {name}, and I am {age} years old from {city}.')\n",
    "# Output: Hello! My name is Python, and I am 20 years old from hyd.\n"
   ]
  },
  {
   "cell_type": "code",
   "execution_count": 13,
   "id": "63309faf",
   "metadata": {},
   "outputs": [
    {
     "name": "stdout",
     "output_type": "stream",
     "text": [
      "The average of 100, 25, and 333 is = 152.66666666666666 or 152.67\n"
     ]
    }
   ],
   "source": [
    "# Let's calculate the average of three numbers and round it\n",
    "\n",
    "num1 = 100\n",
    "num2 = 25\n",
    "num3 = 333\n",
    "\n",
    "avg = (num1 + num2 + num3) / 3\n",
    "avg_rounded = round(avg, 2)\n",
    "\n",
    "print(f'The average of {num1}, {num2}, and {num3} is = {avg} or {avg_rounded}')\n",
    "# Output: The average of 100, 25, and 333 is = 152.66666666666666 or 152.67\n"
   ]
  },
  {
   "cell_type": "markdown",
   "id": "10819fec",
   "metadata": {},
   "source": [
    "<h2 style=\"text-align: center;\">4️⃣ Using <code>end</code> Parameter in <code>print()</code></h2>\n"
   ]
  },
  {
   "cell_type": "code",
   "execution_count": 14,
   "id": "65f056f8",
   "metadata": {},
   "outputs": [
    {
     "name": "stdout",
     "output_type": "stream",
     "text": [
      "hello\n",
      "good morning\n",
      "hello world good day\n"
     ]
    }
   ],
   "source": [
    "# By default, each print statement ends with a newline.\n",
    "# Using the 'end' parameter, we can change what comes at the end of each print.\n",
    "\n",
    "print('hello')              # Prints 'hello' and goes to the next line\n",
    "print('good morning')       # Prints on a new line\n",
    "\n",
    "# Now let's join them on the same line\n",
    "print('hello', end=' ')     # Adds a space instead of newline\n",
    "print('world good day')     # Continues on the same line\n",
    "# Output: hello world good day\n"
   ]
  },
  {
   "cell_type": "code",
   "execution_count": 15,
   "id": "32eaadc4",
   "metadata": {},
   "outputs": [
    {
     "name": "stdout",
     "output_type": "stream",
     "text": [
      "1 2 3.\n"
     ]
    }
   ],
   "source": [
    "# Combining numbers and text without line breaks using 'end'\n",
    "\n",
    "print(1, end=' ')       # Output so far: 1 \n",
    "print(2, end=' ')       # Output so far: 1 2\n",
    "print(3, '.', sep='')   # Output continues: 1 2 3.\n",
    "# Final Output: 1 2 3.\n"
   ]
  },
  {
   "cell_type": "markdown",
   "id": "82c6ca57",
   "metadata": {},
   "source": [
    "<h2 style=\"text-align: center;\">5️⃣ Using the <code>sep</code> Parameter in print()</h2>\n"
   ]
  },
  {
   "cell_type": "code",
   "execution_count": 16,
   "id": "1b96f979",
   "metadata": {},
   "outputs": [
    {
     "name": "stdout",
     "output_type": "stream",
     "text": [
      "hello--->hai--->how are you\n",
      "hello@hai@how are you\n",
      "hello hai how are you\n"
     ]
    }
   ],
   "source": [
    "# The 'sep' parameter lets us customize what separates multiple values inside a single print.\n",
    "\n",
    "print('hello', 'hai', 'how are you', sep='--->')\n",
    "# Output: hello--->hai--->how are you\n",
    "\n",
    "print('hello', 'hai', 'how are you', sep='@')\n",
    "# Output: hello@hai@how are you\n",
    "\n",
    "print('hello', 'hai', 'how are you', sep=' ')\n",
    "# Output: hello hai how are you\n"
   ]
  },
  {
   "cell_type": "code",
   "execution_count": 17,
   "id": "aab2300b",
   "metadata": {},
   "outputs": [
    {
     "name": "stdout",
     "output_type": "stream",
     "text": [
      "3.\n"
     ]
    }
   ],
   "source": [
    "# Useful tip: Use sep='' to eliminate the default space between items\n",
    "\n",
    "print(3, '.', sep='')     # Output: 3.\n"
   ]
  },
  {
   "cell_type": "code",
   "execution_count": 18,
   "id": "017edc25",
   "metadata": {},
   "outputs": [
    {
     "name": "stdout",
     "output_type": "stream",
     "text": [
      "The addition of 10 and 20 is = 30\n",
      "The addition of 10 and 20 is = 30\n",
      "The addition of 10 and 20 is = 30\n"
     ]
    }
   ],
   "source": [
    "# Let's combine print formatting styles\n",
    "\n",
    "num1 = 10\n",
    "num2 = 20\n",
    "add = num1 + num2\n",
    "\n",
    "# 1. Normal print\n",
    "print('The addition of', num1, 'and', num2, 'is =', add)\n",
    "\n",
    "# 2. Using .format()\n",
    "print('The addition of {} and {} is = {}'.format(num1, num2, add))\n",
    "\n",
    "# 3. Using f-string\n",
    "print(f'The addition of {num1} and {num2} is = {add}')\n"
   ]
  },
  {
   "cell_type": "code",
   "execution_count": null,
   "id": "d0fe694d",
   "metadata": {},
   "outputs": [],
   "source": []
  }
 ],
 "metadata": {
  "kernelspec": {
   "display_name": "Python 3",
   "language": "python",
   "name": "python3"
  },
  "language_info": {
   "codemirror_mode": {
    "name": "ipython",
    "version": 3
   },
   "file_extension": ".py",
   "mimetype": "text/x-python",
   "name": "python",
   "nbconvert_exporter": "python",
   "pygments_lexer": "ipython3",
   "version": "3.11.4"
  }
 },
 "nbformat": 4,
 "nbformat_minor": 5
}
