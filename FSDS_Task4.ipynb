{
 "cells": [
  {
   "cell_type": "markdown",
   "id": "c50f07b2",
   "metadata": {},
   "source": [
    "<h2 style=\"text-align: center;\">🔑 Section 1: Keywords and Identifiers</h2>\n",
    "\n",
    "- **Keywords** are reserved words in Python that cannot be used as identifiers.\n",
    "- **Identifiers** are names given to variables, functions, classes, etc.\n",
    "\n",
    "Let's explore valid and invalid identifiers with examples.\n"
   ]
  },
  {
   "cell_type": "code",
   "execution_count": 1,
   "id": "8391fd14",
   "metadata": {},
   "outputs": [
    {
     "name": "stdout",
     "output_type": "stream",
     "text": [
      "Python Keywords:\n",
      "['False', 'None', 'True', 'and', 'as', 'assert', 'async', 'await', 'break', 'class', 'continue', 'def', 'del', 'elif', 'else', 'except', 'finally', 'for', 'from', 'global', 'if', 'import', 'in', 'is', 'lambda', 'nonlocal', 'not', 'or', 'pass', 'raise', 'return', 'try', 'while', 'with', 'yield']\n",
      "Total number of keywords in Python: 35\n"
     ]
    }
   ],
   "source": [
    "# Importing required modules\n",
    "import keyword\n",
    "\n",
    "# Displaying all Python keywords\n",
    "print(\"Python Keywords:\")\n",
    "print(keyword.kwlist)\n",
    "\n",
    "# Total number of keywords\n",
    "print(\"Total number of keywords in Python:\", len(keyword.kwlist))\n"
   ]
  },
  {
   "cell_type": "code",
   "execution_count": 2,
   "id": "c0a69ad0",
   "metadata": {},
   "outputs": [],
   "source": [
    "# Invalid identifier examples (will cause SyntaxError if uncommented)\n",
    "\n",
    "# 1var = 10         ❌ Invalid: starts with number\n",
    "# val@ue = 20       ❌ Invalid: contains special symbol\n",
    "# import = 30       ❌ Invalid: 'import' is a keyword\n"
   ]
  },
  {
   "cell_type": "code",
   "execution_count": 3,
   "id": "d16cf5d9",
   "metadata": {},
   "outputs": [
    {
     "name": "stdout",
     "output_type": "stream",
     "text": [
      "100 200 300\n"
     ]
    }
   ],
   "source": [
    "# Valid identifier examples\n",
    "value1 = 100\n",
    "_value = 200\n",
    "value_with_underscore = 300\n",
    "\n",
    "print(value1, _value, value_with_underscore)\n"
   ]
  },
  {
   "cell_type": "markdown",
   "id": "9805c684",
   "metadata": {},
   "source": [
    "<h2 style=\"text-align: center;\">📝 Section 2: Comments in Python</h2>\n",
    "\n",
    "Comments are used to make code more readable. They are ignored during execution.\n",
    "\n",
    "There are three types of comments in Python:\n",
    "- **Single-line comment** → starts with `#`\n",
    "- **Multi-line comment** → enclosed with `'''...'''` or `\"\"\"...\"\"\"`\n"
   ]
  },
  {
   "cell_type": "code",
   "execution_count": 4,
   "id": "90a8328a",
   "metadata": {},
   "outputs": [
    {
     "name": "stdout",
     "output_type": "stream",
     "text": [
      "10\n"
     ]
    }
   ],
   "source": [
    "# This is a single-line comment\n",
    "x = 10  # This is also a single-line comment next to code\n",
    "print(x)  # Prints the value of x\n"
   ]
  },
  {
   "cell_type": "code",
   "execution_count": 5,
   "id": "ccc77c8a",
   "metadata": {},
   "outputs": [
    {
     "name": "stdout",
     "output_type": "stream",
     "text": [
      "Multi-line comment above\n",
      "Another multi-line comment above\n"
     ]
    }
   ],
   "source": [
    "'''\n",
    "This is a multi-line comment\n",
    "written using triple single quotes\n",
    "'''\n",
    "print(\"Multi-line comment above\")\n",
    "\n",
    "\"\"\"\n",
    "This is another multi-line comment\n",
    "written using triple double quotes\n",
    "\"\"\"\n",
    "print(\"Another multi-line comment above\")\n"
   ]
  },
  {
   "cell_type": "markdown",
   "id": "8aa9c3a2",
   "metadata": {},
   "source": [
    "<h2 style=\"text-align: center;\">🧾 Section 3: Statements and Variable Assignment</h2>\n",
    "\n",
    "- A **statement** is an instruction Python can execute.\n",
    "- A **variable assignment** links a name (identifier) to a value using `=`.\n",
    "- You can assign:\n",
    "  - Single values\n",
    "  - Multiple values\n",
    "  - The same value to multiple variables\n"
   ]
  },
  {
   "cell_type": "code",
   "execution_count": 6,
   "id": "05b6a104",
   "metadata": {},
   "outputs": [
    {
     "name": "stdout",
     "output_type": "stream",
     "text": [
      "10\n",
      "2.57\n",
      "Python Language\n"
     ]
    }
   ],
   "source": [
    "# Basic variable assignments\n",
    "int_var = 10          # Integer\n",
    "float_var = 2.57      # Float\n",
    "str_var = \"Python Language\"  # String\n",
    "\n",
    "print(int_var)    # 10\n",
    "print(float_var)  # 2.57\n",
    "print(str_var)    # Python Language\n"
   ]
  },
  {
   "cell_type": "code",
   "execution_count": 7,
   "id": "1daff839",
   "metadata": {},
   "outputs": [
    {
     "name": "stdout",
     "output_type": "stream",
     "text": [
      "5\n",
      "3.14\n",
      "Hello\n"
     ]
    }
   ],
   "source": [
    "# Assign multiple values in one line\n",
    "a, b, c = 5, 3.14, \"Hello\"\n",
    "print(a)  # 5\n",
    "print(b)  # 3.14\n",
    "print(c)  # Hello\n"
   ]
  },
  {
   "cell_type": "code",
   "execution_count": 8,
   "id": "eb6d86d7",
   "metadata": {},
   "outputs": [
    {
     "name": "stdout",
     "output_type": "stream",
     "text": [
      "44 44 44\n"
     ]
    }
   ],
   "source": [
    "# Assign the same value to multiple variables\n",
    "p1 = p2 = p3 = 44\n",
    "print(p1, p2, p3)  # 44 44 44\n"
   ]
  },
  {
   "cell_type": "markdown",
   "id": "83dfba00",
   "metadata": {},
   "source": [
    "<h2 style=\"text-align: center;\">🔢 Section 4: Data Types</h2>\n",
    "\n",
    "Python has several built-in data types, including:\n",
    "\n",
    "- `int` → Integer values\n",
    "- `float` → Decimal values\n",
    "- `complex` → Numbers with real + imaginary parts\n",
    "- `bool` → Boolean values: `True` or `False`\n",
    "\n",
    "We'll also check:\n",
    "- Their memory sizes using `sys.getsizeof()`\n",
    "- Their type using `type()`\n",
    "- Whether they belong to a specific type using `isinstance()`\n"
   ]
  },
  {
   "cell_type": "code",
   "execution_count": 11,
   "id": "6f893332",
   "metadata": {},
   "outputs": [],
   "source": [
    "import sys  # Required to check memory size\n"
   ]
  },
  {
   "cell_type": "code",
   "execution_count": 12,
   "id": "355acf61",
   "metadata": {},
   "outputs": [
    {
     "name": "stdout",
     "output_type": "stream",
     "text": [
      "10\n",
      "<class 'int'>\n",
      "28\n",
      "10 is int? True\n"
     ]
    }
   ],
   "source": [
    "val1 = 10\n",
    "print(val1)                        # 10\n",
    "print(type(val1))                  # <class 'int'>\n",
    "print(sys.getsizeof(val1))         # Size in bytes\n",
    "print(val1, \"is int?\", isinstance(val1, int))  # True\n"
   ]
  },
  {
   "cell_type": "code",
   "execution_count": 13,
   "id": "00bd9b15",
   "metadata": {},
   "outputs": [
    {
     "name": "stdout",
     "output_type": "stream",
     "text": [
      "92.78\n",
      "<class 'float'>\n",
      "24\n",
      "92.78 is float? True\n"
     ]
    }
   ],
   "source": [
    "val2 = 92.78\n",
    "print(val2)                        # 92.78\n",
    "print(type(val2))                  # <class 'float'>\n",
    "print(sys.getsizeof(val2))         # Size in bytes\n",
    "print(val2, \"is float?\", isinstance(val2, float))  # True\n"
   ]
  },
  {
   "cell_type": "code",
   "execution_count": 14,
   "id": "689c789a",
   "metadata": {},
   "outputs": [
    {
     "name": "stdout",
     "output_type": "stream",
     "text": [
      "(25+10j)\n",
      "<class 'complex'>\n",
      "32\n",
      "(25+10j) is complex? True\n"
     ]
    }
   ],
   "source": [
    "val3 = 25 + 10j\n",
    "print(val3)                        # (25+10j)\n",
    "print(type(val3))                  # <class 'complex'>\n",
    "print(sys.getsizeof(val3))         # Size in bytes\n",
    "print(val3, \"is complex?\", isinstance(val3, complex))  # True\n"
   ]
  },
  {
   "cell_type": "code",
   "execution_count": 15,
   "id": "322a2252",
   "metadata": {},
   "outputs": [
    {
     "name": "stdout",
     "output_type": "stream",
     "text": [
      "<class 'bool'>\n",
      "<class 'bool'>\n",
      "True\n"
     ]
    }
   ],
   "source": [
    "bool1 = True\n",
    "bool2 = False\n",
    "\n",
    "print(type(bool1))                 # <class 'bool'>\n",
    "print(type(bool2))                 # <class 'bool'>\n",
    "print(isinstance(bool1, bool))     # True\n"
   ]
  },
  {
   "cell_type": "code",
   "execution_count": 16,
   "id": "ef1c6a95",
   "metadata": {},
   "outputs": [
    {
     "name": "stdout",
     "output_type": "stream",
     "text": [
      "False\n",
      "True\n",
      "False\n",
      "False\n"
     ]
    }
   ],
   "source": [
    "print(bool(0))       # False\n",
    "print(bool(1))       # True\n",
    "print(bool(None))    # False\n",
    "print(bool(False))   # False\n"
   ]
  },
  {
   "cell_type": "markdown",
   "id": "56349a22",
   "metadata": {},
   "source": [
    "<h2 style=\"text-align: center;\">🧵 Section 5: Strings in Python</h2>\n",
    "\n",
    "A **string** is a sequence of characters enclosed in quotes.\n",
    "\n",
    "Python supports:\n",
    "- Single (`'...'`) and double (`\"...\"`) quotes\n",
    "- Triple quotes for multi-line strings (`'''...'''` or `\"\"\"...\"\"\"`)\n",
    "- Indexing and slicing\n",
    "- Concatenation using `+`\n",
    "- Strings are **immutable** (can’t be changed after creation)\n"
   ]
  },
  {
   "cell_type": "code",
   "execution_count": 17,
   "id": "f7665c96",
   "metadata": {},
   "outputs": [
    {
     "name": "stdout",
     "output_type": "stream",
     "text": [
      "HELLO PYTHON\n",
      "Hello World\n",
      "Hello\n",
      "World\n",
      "Welcome\n",
      "Back\n",
      "Happy Monday Everyone\n",
      "Woohoo Woohoo Woohoo Woohoo Woohoo \n",
      "Length of str6: 35\n"
     ]
    }
   ],
   "source": [
    "# Different ways to define strings\n",
    "str1 = \"HELLO PYTHON\"\n",
    "print(str1)\n",
    "\n",
    "str2 = 'Hello World'\n",
    "print(str2)\n",
    "\n",
    "str3 = '''Hello\n",
    "World'''\n",
    "print(str3)\n",
    "\n",
    "str4 = \"\"\"Welcome\n",
    "Back\"\"\"\n",
    "print(str4)\n",
    "\n",
    "# String joining using parentheses\n",
    "str5 = ('Happy '\n",
    "        'Monday '\n",
    "        'Everyone')\n",
    "print(str5)\n",
    "\n",
    "# String repetition\n",
    "str6 = 'Woohoo ' * 5\n",
    "print(str6)\n",
    "print(\"Length of str6:\", len(str6))  # 35\n"
   ]
  },
  {
   "cell_type": "code",
   "execution_count": 18,
   "id": "3449379f",
   "metadata": {},
   "outputs": [
    {
     "name": "stdout",
     "output_type": "stream",
     "text": [
      "H\n",
      "N\n",
      "N\n",
      "P\n",
      " \n"
     ]
    }
   ],
   "source": [
    "str1 = \"HELLO PYTHON\"\n",
    "\n",
    "# Indexing\n",
    "print(str1[0])             # First character → 'H'\n",
    "print(str1[len(str1)-1])   # Last character using len() → 'N'\n",
    "print(str1[-1])            # Last character using negative index → 'N'\n",
    "print(str1[6])             # 7th character → 'P'\n",
    "print(str1[5])             # 6th character (a space) → ' '\n"
   ]
  },
  {
   "cell_type": "code",
   "execution_count": 19,
   "id": "29b15e4e",
   "metadata": {},
   "outputs": [
    {
     "name": "stdout",
     "output_type": "stream",
     "text": [
      "HELLO\n",
      "PYTHON\n",
      "THON\n",
      "PYTHON\n",
      "HELL\n",
      "HELLO \n"
     ]
    }
   ],
   "source": [
    "# String slicing\n",
    "print(str1[0:5])   # 'HELLO'\n",
    "print(str1[6:12])  # 'PYTHON'\n",
    "print(str1[-4:])   # 'THON'\n",
    "print(str1[-6:])   # 'PYTHON'\n",
    "print(str1[:4])    # 'HELL'\n",
    "print(str1[:6])    # 'HELLO '\n"
   ]
  },
  {
   "cell_type": "code",
   "execution_count": 20,
   "id": "26c8c989",
   "metadata": {},
   "outputs": [
    {
     "name": "stdout",
     "output_type": "stream",
     "text": [
      "HOLAA PYTHON\n"
     ]
    }
   ],
   "source": [
    "# Strings are immutable (you can't change part of it directly)\n",
    "str1 = \"HELLO PYTHON\"\n",
    "# str1[0:5] = 'HOLAA'  # ❌ This will raise TypeError\n",
    "\n",
    "# To \"modify\", you need to create a new string\n",
    "new_str = 'HOLAA' + str1[5:]\n",
    "print(new_str)  # HOLAA PYTHON\n"
   ]
  },
  {
   "cell_type": "code",
   "execution_count": 21,
   "id": "dc1db2e2",
   "metadata": {},
   "outputs": [
    {
     "name": "stdout",
     "output_type": "stream",
     "text": [
      "HelloMubasshir\n"
     ]
    }
   ],
   "source": [
    "# Deleting a string\n",
    "str1 = \"HELLO PYTHON\"\n",
    "del str1\n",
    "# print(str1)  # ❌ This would raise NameError because str1 is deleted\n",
    "\n",
    "# String concatenation\n",
    "s1 = \"Hello\"\n",
    "s2 = \"Mubasshir\"\n",
    "s3 = s1 + s2\n",
    "print(s3)  # HelloMubasshir\n"
   ]
  },
  {
   "cell_type": "code",
   "execution_count": null,
   "id": "3bc709f6",
   "metadata": {},
   "outputs": [],
   "source": []
  }
 ],
 "metadata": {
  "kernelspec": {
   "display_name": "base",
   "language": "python",
   "name": "python3"
  },
  "language_info": {
   "codemirror_mode": {
    "name": "ipython",
    "version": 3
   },
   "file_extension": ".py",
   "mimetype": "text/x-python",
   "name": "python",
   "nbconvert_exporter": "python",
   "pygments_lexer": "ipython3",
   "version": "3.12.7"
  }
 },
 "nbformat": 4,
 "nbformat_minor": 5
}
