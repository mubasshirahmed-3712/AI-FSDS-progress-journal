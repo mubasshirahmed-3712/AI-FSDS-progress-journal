{
 "cells": [
  {
   "cell_type": "markdown",
   "id": "fbd65fc2",
   "metadata": {},
   "source": [
    "<h2 style=\"text-align: center;\">📌 Section 1: Escape Characters and List Creation</h2>\n",
    "\n",
    "- Escape characters are used in strings to represent special characters like newlines, quotes, tabs, etc.\n",
    "- Lists in Python are ordered, mutable collections that can hold items of different types.\n"
   ]
  },
  {
   "cell_type": "code",
   "execution_count": 1,
   "id": "a840f275",
   "metadata": {},
   "outputs": [
    {
     "name": "stdout",
     "output_type": "stream",
     "text": [
      "hello \n",
      "world\n",
      "hello\tworld\n",
      "hello'world\n",
      "hello\"world\n",
      "hello\\world\n"
     ]
    }
   ],
   "source": [
    "# Using escape characters in strings\n",
    "print('hello \\nworld')        # newline\n",
    "print('hello\\tworld')         # tab\n",
    "print('hello\\'world')         # single quote inside single quotes\n",
    "print(\"hello\\\"world\")         # double quote inside double quotes\n",
    "print(\"hello\\\\world\")         # backslash\n"
   ]
  },
  {
   "cell_type": "code",
   "execution_count": 2,
   "id": "d98a72f4",
   "metadata": {},
   "outputs": [
    {
     "name": "stdout",
     "output_type": "stream",
     "text": [
      "['Mubasshir', 21, 'Python', True, 5.5]\n",
      "[1, 2, ['a', 'b', 'c'], 4]\n"
     ]
    }
   ],
   "source": [
    "# Creating a list\n",
    "my_list = ['Mubasshir', 21, 'Python', True, 5.5]\n",
    "print(my_list)\n",
    "\n",
    "# List inside another list (nested list)\n",
    "nested_list = [1, 2, ['a', 'b', 'c'], 4]\n",
    "print(nested_list)\n"
   ]
  },
  {
   "cell_type": "markdown",
   "id": "3fc43715",
   "metadata": {},
   "source": [
    "<h2 style=\"text-align: center;\">🔢 Section 2: List Indexing</h2>\n",
    "\n",
    "- Lists are **zero-indexed**, meaning the first element is at index 0.\n",
    "- We can also use **negative indexing** to access elements from the end of the list.\n"
   ]
  },
  {
   "cell_type": "code",
   "execution_count": 4,
   "id": "d2977ac8",
   "metadata": {},
   "outputs": [
    {
     "name": "stdout",
     "output_type": "stream",
     "text": [
      "apple\n",
      "banana\n",
      "cherry\n",
      "date\n"
     ]
    }
   ],
   "source": [
    "# Example list\n",
    "fruits = ['apple', 'banana', 'cherry', 'date']\n",
    "\n",
    "# Accessing elements using positive indexes\n",
    "print(fruits[0])  # apple\n",
    "print(fruits[1])  # banana\n",
    "print(fruits[2])  # cherry\n",
    "print(fruits[3])  # date\n"
   ]
  },
  {
   "cell_type": "code",
   "execution_count": 5,
   "id": "6adef8cf",
   "metadata": {},
   "outputs": [
    {
     "name": "stdout",
     "output_type": "stream",
     "text": [
      "date\n",
      "cherry\n",
      "banana\n",
      "apple\n"
     ]
    }
   ],
   "source": [
    "# Accessing elements from the end using negative indexes\n",
    "print(fruits[-1])  # date\n",
    "print(fruits[-2])  # cherry\n",
    "print(fruits[-3])  # banana\n",
    "print(fruits[-4])  # apple\n"
   ]
  },
  {
   "cell_type": "markdown",
   "id": "5e137203",
   "metadata": {},
   "source": [
    "<h2 style=\"text-align: center;\">🍕 Section 3: List Slicing</h2>\n",
    "\n",
    "- **Slicing** allows you to extract parts of a list using the syntax:\n"
   ]
  },
  {
   "cell_type": "markdown",
   "id": "7ee999ff",
   "metadata": {},
   "source": [
    "- You can also use:\n",
    "- `list[:n]` → from beginning to `n-1`\n",
    "- `list[n:]` → from `n` to end\n",
    "- `list[start:stop:step]` → with steps\n"
   ]
  },
  {
   "cell_type": "code",
   "execution_count": 7,
   "id": "130aa1a6",
   "metadata": {},
   "outputs": [
    {
     "name": "stdout",
     "output_type": "stream",
     "text": [
      "[2, 3, 4, 5]\n",
      "[0, 1, 2, 3, 4]\n",
      "[5, 6, 7, 8, 9]\n",
      "[0, 1, 2, 3, 4, 5, 6, 7, 8, 9]\n"
     ]
    }
   ],
   "source": [
    "numbers = [0, 1, 2, 3, 4, 5, 6, 7, 8, 9]\n",
    "\n",
    "print(numbers[2:6])   # [2, 3, 4, 5]\n",
    "print(numbers[:5])    # [0, 1, 2, 3, 4]\n",
    "print(numbers[5:])    # [5, 6, 7, 8, 9]\n",
    "print(numbers[:])     # entire list\n"
   ]
  },
  {
   "cell_type": "code",
   "execution_count": 8,
   "id": "820a85d2",
   "metadata": {},
   "outputs": [
    {
     "name": "stdout",
     "output_type": "stream",
     "text": [
      "[0, 2, 4, 6, 8]\n",
      "[1, 3, 5, 7, 9]\n",
      "[9, 8, 7, 6, 5, 4, 3, 2, 1, 0]\n"
     ]
    }
   ],
   "source": [
    "print(numbers[::2])   # every second element → [0, 2, 4, 6, 8]\n",
    "print(numbers[1::2])  # every second element starting from index 1 → [1, 3, 5, 7, 9]\n",
    "print(numbers[::-1])  # reversed list → [9, 8, ..., 0]\n"
   ]
  },
  {
   "cell_type": "markdown",
   "id": "704bc55c",
   "metadata": {},
   "source": [
    "<h2 style=\"text-align: center;\">🛠️ Section 4: Modifying Lists</h2>\n",
    "\n",
    "Python lists are **mutable**, which means you can:\n",
    "\n",
    "- Change elements using indexing\n",
    "- Add items using `.append()`, `.insert()`, `.extend()`\n",
    "- Remove items using `.remove()`, `.pop()`, or `del`\n"
   ]
  },
  {
   "cell_type": "code",
   "execution_count": 9,
   "id": "3bedb4da",
   "metadata": {},
   "outputs": [
    {
     "name": "stdout",
     "output_type": "stream",
     "text": [
      "['apple', 'blueberry', 'cherry']\n"
     ]
    }
   ],
   "source": [
    "fruits = ['apple', 'banana', 'cherry']\n",
    "fruits[1] = 'blueberry'  # changing 'banana' to 'blueberry'\n",
    "print(fruits)  # ['apple', 'blueberry', 'cherry']\n"
   ]
  },
  {
   "cell_type": "code",
   "execution_count": 10,
   "id": "82a2666c",
   "metadata": {},
   "outputs": [
    {
     "name": "stdout",
     "output_type": "stream",
     "text": [
      "['apple', 'blueberry', 'cherry', 'date']\n",
      "['apple', 'kiwi', 'blueberry', 'cherry', 'date']\n",
      "['apple', 'kiwi', 'blueberry', 'cherry', 'date', 'fig', 'grape']\n"
     ]
    }
   ],
   "source": [
    "# Append adds to end\n",
    "fruits.append('date')\n",
    "print(fruits)  # ['apple', 'blueberry', 'cherry', 'date']\n",
    "\n",
    "# Insert adds at specific position\n",
    "fruits.insert(1, 'kiwi')\n",
    "print(fruits)  # ['apple', 'kiwi', 'blueberry', 'cherry', 'date']\n",
    "\n",
    "# Extend adds multiple items\n",
    "fruits.extend(['fig', 'grape'])\n",
    "print(fruits)  # ['apple', 'kiwi', 'blueberry', 'cherry', 'date', 'fig', 'grape']\n"
   ]
  },
  {
   "cell_type": "code",
   "execution_count": 11,
   "id": "ea0799cf",
   "metadata": {},
   "outputs": [
    {
     "name": "stdout",
     "output_type": "stream",
     "text": [
      "['apple', 'kiwi', 'cherry', 'date', 'fig', 'grape']\n",
      "grape\n",
      "['apple', 'kiwi', 'cherry', 'date', 'fig']\n",
      "['apple', 'kiwi', 'date', 'fig']\n"
     ]
    }
   ],
   "source": [
    "# Remove by value\n",
    "fruits.remove('blueberry')  \n",
    "print(fruits)  # 'blueberry' removed\n",
    "\n",
    "# Pop removes last item (or by index)\n",
    "popped_item = fruits.pop()\n",
    "print(popped_item)  # grape\n",
    "print(fruits)\n",
    "\n",
    "# Delete by index\n",
    "del fruits[2]\n",
    "print(fruits)  # removes item at index 2\n"
   ]
  },
  {
   "cell_type": "markdown",
   "id": "2d4ec895",
   "metadata": {},
   "source": [
    "<h3 style=\"text-align: left;\">🧽 Clearing a List</h3>\n",
    "\n",
    "You can use `.clear()` to remove all elements from a list, making it empty.\n"
   ]
  },
  {
   "cell_type": "code",
   "execution_count": 12,
   "id": "35b919e7",
   "metadata": {},
   "outputs": [
    {
     "name": "stdout",
     "output_type": "stream",
     "text": [
      "Before clearing: [1, 2, 3, 4, 5]\n",
      "After clearing: []\n"
     ]
    }
   ],
   "source": [
    "list6 = [1, 2, 3, 4, 5]\n",
    "print(\"Before clearing:\", list6)\n",
    "\n",
    "list6.clear()\n",
    "print(\"After clearing:\", list6)  # []\n"
   ]
  },
  {
   "cell_type": "markdown",
   "id": "2caba895",
   "metadata": {},
   "source": [
    "<h2 style=\"text-align: center;\">📋 Section 5: Copying Lists</h2>\n",
    "\n",
    "When copying lists in Python:\n",
    "\n",
    "- **Direct assignment (`=`)** links both variables to the same list (changes affect both).\n",
    "- Use **`.copy()`** or `list()` to create an independent copy.\n"
   ]
  },
  {
   "cell_type": "code",
   "execution_count": 13,
   "id": "69e60fdf",
   "metadata": {},
   "outputs": [
    {
     "name": "stdout",
     "output_type": "stream",
     "text": [
      "list1: [1, 2, 3, 4, 5]\n",
      "list2: [1, 2, 3, 4, 5]\n"
     ]
    }
   ],
   "source": [
    "list1 = [1, 2, 3, 4]\n",
    "list2 = list1  # both point to the same list\n",
    "\n",
    "list2.append(5)\n",
    "print(\"list1:\", list1)  # [1, 2, 3, 4, 5]\n",
    "print(\"list2:\", list2)  # [1, 2, 3, 4, 5]\n"
   ]
  },
  {
   "cell_type": "code",
   "execution_count": 14,
   "id": "a63651bb",
   "metadata": {},
   "outputs": [
    {
     "name": "stdout",
     "output_type": "stream",
     "text": [
      "list3: [10, 20, 30]\n",
      "list4: [10, 20, 30, 40]\n"
     ]
    }
   ],
   "source": [
    "# Using copy()\n",
    "list3 = [10, 20, 30]\n",
    "list4 = list3.copy()\n",
    "\n",
    "list4.append(40)\n",
    "print(\"list3:\", list3)  # [10, 20, 30]\n",
    "print(\"list4:\", list4)  # [10, 20, 30, 40]\n"
   ]
  },
  {
   "cell_type": "code",
   "execution_count": 15,
   "id": "b5ace24b",
   "metadata": {},
   "outputs": [
    {
     "name": "stdout",
     "output_type": "stream",
     "text": [
      "list3: [10, 20, 30]\n",
      "list5: [10, 20, 30, 50]\n"
     ]
    }
   ],
   "source": [
    "list5 = list(list3)  # another valid way\n",
    "list5.append(50)\n",
    "print(\"list3:\", list3)  # [10, 20, 30]\n",
    "print(\"list5:\", list5)  # [10, 20, 30, 50]\n"
   ]
  },
  {
   "cell_type": "markdown",
   "id": "3e695750",
   "metadata": {},
   "source": [
    "<h2 style=\"text-align: center;\">➕ Section 6: Joining Lists</h2>\n",
    "\n",
    "You can join (combine) two or more lists using:\n",
    "\n",
    "- The `+` operator\n",
    "- The `.extend()` method\n"
   ]
  },
  {
   "cell_type": "code",
   "execution_count": 16,
   "id": "91261993",
   "metadata": {},
   "outputs": [
    {
     "name": "stdout",
     "output_type": "stream",
     "text": [
      "Joined using + : [1, 2, 3, 4, 5, 6]\n"
     ]
    }
   ],
   "source": [
    "list_a = [1, 2, 3]\n",
    "list_b = [4, 5, 6]\n",
    "\n",
    "combined = list_a + list_b\n",
    "print(\"Joined using + :\", combined)  # [1, 2, 3, 4, 5, 6]\n"
   ]
  },
  {
   "cell_type": "code",
   "execution_count": 17,
   "id": "ace5733b",
   "metadata": {},
   "outputs": [
    {
     "name": "stdout",
     "output_type": "stream",
     "text": [
      "After extend: ['apple', 'banana', 'cherry', 'date']\n"
     ]
    }
   ],
   "source": [
    "list_c = ['apple', 'banana']\n",
    "list_d = ['cherry', 'date']\n",
    "\n",
    "list_c.extend(list_d)\n",
    "print(\"After extend:\", list_c)  # ['apple', 'banana', 'cherry', 'date']\n"
   ]
  },
  {
   "cell_type": "markdown",
   "id": "b99354ac",
   "metadata": {},
   "source": [
    "<h2 style=\"text-align: center;\">🔍 Section 7: Membership Testing</h2>\n",
    "\n",
    "Use `in` and `not in` to check if an item exists within a list.\n",
    "\n",
    "- `item in list` returns `True` if item is found\n",
    "- `item not in list` returns `True` if item is NOT found\n",
    "- You can also use these with `if...else` to perform actions\n"
   ]
  },
  {
   "cell_type": "code",
   "execution_count": 20,
   "id": "57b6f6e4",
   "metadata": {},
   "outputs": [
    {
     "name": "stdout",
     "output_type": "stream",
     "text": [
      "True\n",
      "False\n",
      "True\n",
      "False\n"
     ]
    }
   ],
   "source": [
    "numbers = [10, 20, 30, 40, 50]\n",
    "\n",
    "print(30 in numbers)     # True\n",
    "print(60 in numbers)     # False\n",
    "\n",
    "print(25 not in numbers) # True\n",
    "print(10 not in numbers) # False\n"
   ]
  },
  {
   "cell_type": "code",
   "execution_count": 19,
   "id": "bf96b8a0",
   "metadata": {},
   "outputs": [
    {
     "name": "stdout",
     "output_type": "stream",
     "text": [
      "True\n",
      "False\n"
     ]
    }
   ],
   "source": [
    "list1 = ['one', 'two', 'three', 'four', 'five']\n",
    "\n",
    "print('one' in list1)    # True\n",
    "print('ten' in list1)    # False\n"
   ]
  },
  {
   "cell_type": "code",
   "execution_count": 21,
   "id": "929456d2",
   "metadata": {},
   "outputs": [
    {
     "name": "stdout",
     "output_type": "stream",
     "text": [
      "Three is present in the list\n",
      "Eleven is not present in the list\n"
     ]
    }
   ],
   "source": [
    "if 'three' in list1:\n",
    "    print('Three is present in the list')\n",
    "else:\n",
    "    print('Three is not present in the list')\n",
    "\n",
    "if 'eleven' in list1:\n",
    "    print('Eleven is present in the list')\n",
    "else:\n",
    "    print('Eleven is not present in the list')\n"
   ]
  },
  {
   "cell_type": "markdown",
   "id": "0f7e4000",
   "metadata": {},
   "source": [
    "<h2 style=\"text-align: center;\">🔃 Section 8: Reversing and Sorting Lists (Strict to PDF)</h2>\n",
    "\n",
    "Python provides multiple ways to reverse and sort lists.\n",
    "\n",
    "- `.reverse()` → reverses the list in place\n",
    "- `[::-1]` → slicing method to reverse\n",
    "- `.sort()` → sorts list (ascending by default)\n",
    "- `.sort(reverse=True)` → sorts in descending order\n",
    "- `sorted()` → returns a new sorted list (original remains unchanged)\n"
   ]
  },
  {
   "cell_type": "code",
   "execution_count": 22,
   "id": "4ce57c9c",
   "metadata": {},
   "outputs": [
    {
     "name": "stdout",
     "output_type": "stream",
     "text": [
      "Reversed with .reverse(): ['orange', 'yellow', 'green', 'blue', 'red']\n",
      "Reversed with slicing: ['red', 'blue', 'green', 'yellow', 'orange']\n"
     ]
    }
   ],
   "source": [
    "list1 = ['red', 'blue', 'green', 'yellow', 'orange']\n",
    "list1.reverse()  # Reverse the list\n",
    "print(\"Reversed with .reverse():\", list1)\n",
    "\n",
    "list1 = list1[::-1]  # Reverse the list again using slicing\n",
    "print(\"Reversed with slicing:\", list1)\n"
   ]
  },
  {
   "cell_type": "code",
   "execution_count": 23,
   "id": "2a1b0807",
   "metadata": {},
   "outputs": [
    {
     "name": "stdout",
     "output_type": "stream",
     "text": [
      "Ascending: [5, 12, 18, 27, 34, 88, 99]\n",
      "Descending: [99, 88, 34, 27, 18, 12, 5]\n"
     ]
    }
   ],
   "source": [
    "mylist3 = [18, 5, 27, 99, 12, 88, 34]\n",
    "mylist3.sort()  # Ascending order\n",
    "print(\"Ascending:\", mylist3)\n",
    "\n",
    "mylist3 = [18, 5, 27, 99, 12, 88, 34]\n",
    "mylist3.sort(reverse=True)  # Descending order\n",
    "print(\"Descending:\", mylist3)\n"
   ]
  },
  {
   "cell_type": "code",
   "execution_count": 24,
   "id": "dac39fb5",
   "metadata": {},
   "outputs": [
    {
     "name": "stdout",
     "output_type": "stream",
     "text": [
      "Sorted new list: [11, 21, 33, 65, 77, 98]\n",
      "Original list remains unchanged: [77, 65, 33, 21, 11, 98]\n"
     ]
    }
   ],
   "source": [
    "mylist4 = [77, 65, 33, 21, 11, 98]\n",
    "print(\"Sorted new list:\", sorted(mylist4))  # Returns new sorted list\n",
    "print(\"Original list remains unchanged:\", mylist4)\n"
   ]
  },
  {
   "cell_type": "markdown",
   "id": "786417d5",
   "metadata": {},
   "source": [
    "<h2 style=\"text-align: center;\">🔁 Section 9: Looping Through Lists</h2>\n",
    "\n",
    "Use a `for` loop to iterate through each element of a list.\n"
   ]
  },
  {
   "cell_type": "code",
   "execution_count": 25,
   "id": "0a5040b7",
   "metadata": {},
   "outputs": [
    {
     "name": "stdout",
     "output_type": "stream",
     "text": [
      "Mumbai\n",
      "Delhi\n",
      "Bangalore\n",
      "Hyderabad\n"
     ]
    }
   ],
   "source": [
    "cities = ['Mumbai', 'Delhi', 'Bangalore', 'Hyderabad']\n",
    "\n",
    "for city in cities:\n",
    "    print(city)\n"
   ]
  },
  {
   "cell_type": "code",
   "execution_count": 26,
   "id": "d2cedd82",
   "metadata": {},
   "outputs": [
    {
     "name": "stdout",
     "output_type": "stream",
     "text": [
      "(0, 'Mumbai')\n",
      "(1, 'Delhi')\n",
      "(2, 'Bangalore')\n",
      "(3, 'Hyderabad')\n"
     ]
    }
   ],
   "source": [
    "for i in enumerate(cities): \n",
    "    print(i) \n"
   ]
  },
  {
   "cell_type": "markdown",
   "id": "fc82298b",
   "metadata": {},
   "source": [
    "<h2 style=\"text-align: center;\">🔢 Section 10: Count & Occurrence</h2>\n",
    "\n",
    "You can use these list methods to work with data:\n",
    "\n",
    "- `.count(x)` → Counts how many times `x` appears in the list\n",
    "- `.index(x)` → Returns the first index of `x` in the list\n"
   ]
  },
  {
   "cell_type": "code",
   "execution_count": 27,
   "id": "b9fac13e",
   "metadata": {},
   "outputs": [
    {
     "name": "stdout",
     "output_type": "stream",
     "text": [
      "Nike appears: 3 times\n",
      "Index of Puma: 2\n"
     ]
    }
   ],
   "source": [
    "brands = ['Nike', 'Adidas', 'Puma', 'Nike', 'Reebok', 'Nike']\n",
    "\n",
    "print(\"Nike appears:\", brands.count('Nike'), \"times\")       # 3\n",
    "print(\"Index of Puma:\", brands.index('Puma'))               # 2\n"
   ]
  },
  {
   "cell_type": "markdown",
   "id": "fe6e1b9f",
   "metadata": {},
   "source": [
    "<h2 style=\"text-align: center;\">✅ Section 11: Built-in Functions – all() and any()</h2>\n",
    "\n",
    "- `all()` → Returns `True` if **all** elements in the iterable are `True`\n",
    "- `any()` → Returns `True` if **any one** element is `True`\n"
   ]
  },
  {
   "cell_type": "code",
   "execution_count": 28,
   "id": "74361d37",
   "metadata": {},
   "outputs": [
    {
     "name": "stdout",
     "output_type": "stream",
     "text": [
      "Are all marks non-zero? : True\n",
      "Is there any non-zero mark? : True\n",
      "All non-zero? : False\n",
      "Any non-zero? : True\n"
     ]
    }
   ],
   "source": [
    "marks = [80, 90, 70, 60]\n",
    "\n",
    "print(\"Are all marks non-zero? :\", all(marks))  # True\n",
    "print(\"Is there any non-zero mark? :\", any(marks))  # True\n",
    "\n",
    "marks_with_zero = [80, 0, 70, 60]\n",
    "\n",
    "print(\"All non-zero? :\", all(marks_with_zero))  # False\n",
    "print(\"Any non-zero? :\", any(marks_with_zero))  # True\n"
   ]
  }
 ],
 "metadata": {
  "kernelspec": {
   "display_name": "base",
   "language": "python",
   "name": "python3"
  },
  "language_info": {
   "codemirror_mode": {
    "name": "ipython",
    "version": 3
   },
   "file_extension": ".py",
   "mimetype": "text/x-python",
   "name": "python",
   "nbconvert_exporter": "python",
   "pygments_lexer": "ipython3",
   "version": "3.12.7"
  }
 },
 "nbformat": 4,
 "nbformat_minor": 5
}
