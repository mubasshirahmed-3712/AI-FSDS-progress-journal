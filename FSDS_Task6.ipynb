{
 "cells": [
  {
   "cell_type": "markdown",
   "id": "494f21dd",
   "metadata": {},
   "source": [
    "<h1 align=\"center\">1. Tuple Creation</h1>\n"
   ]
  },
  {
   "cell_type": "code",
   "execution_count": 1,
   "id": "eea8ce14",
   "metadata": {},
   "outputs": [
    {
     "name": "stdout",
     "output_type": "stream",
     "text": [
      "6\n"
     ]
    }
   ],
   "source": [
    "tup1 = ()  # Empty tuple\n",
    "\n",
    "tup2 = (10, 30, 60)  # Tuple of integer numbers  → (10, 30, 60)\n",
    "tup3 = (10.77, 30.66, 60.89)  # Tuple of float numbers  → (10.77, 30.66, 60.89)\n",
    "tup4 = ('one', 'two', 'three')  # Tuple of strings  → ('one', 'two', 'three')\n",
    "tup5 = ('Mubasshir Ahmed', 25, (50, 100), (150, 90))  # Nested tuples  → ('Mubasshir Ahmed', 25, (50, 100), (150, 90))\n",
    "tup6 = (100, 'Mubasshir Ahmed', 17.765)  # Mixed data types  → (100, 'Mubasshir Ahmed', 17.765)\n",
    "\n",
    "tup7 = ('Mubasshir Ahmed', 25, [50, 100], [150, 90], {'John', 'David'}, (99, 22, 33))  # Tuple with list, set & tuple\n",
    "\n",
    "print(len(tup7))  # Output: 6\n"
   ]
  },
  {
   "cell_type": "markdown",
   "id": "df155991",
   "metadata": {},
   "source": [
    "<h1 align=\"center\">2. Tuple Indexing</h1>\n"
   ]
  },
  {
   "cell_type": "code",
   "execution_count": 2,
   "id": "3af4f105",
   "metadata": {},
   "outputs": [
    {
     "name": "stdout",
     "output_type": "stream",
     "text": [
      "Mubasshir\n",
      "Ahmed\n",
      "M\n",
      "Python\n",
      "(22, 33)\n",
      "33\n"
     ]
    }
   ],
   "source": [
    "tup = ('Mubasshir', 'Ahmed', 99, (22, 33), 'Python')\n",
    "\n",
    "print(tup[0])         # Output: 'Mubasshir'  → First element\n",
    "print(tup[1])         # Output: 'Ahmed'      → Second element\n",
    "print(tup[0][0])      # Output: 'M'          → First character of first string\n",
    "print(tup[-1])        # Output: 'Python'     → Last element using negative indexing\n",
    "print(tup[3])         # Output: (22, 33)     → Nested tuple\n",
    "print(tup[3][1])      # Output: 33           → Second element of nested tuple\n"
   ]
  },
  {
   "cell_type": "markdown",
   "id": "bebfe631",
   "metadata": {},
   "source": [
    "<h1 align=\"center\">3. Tuple Slicing</h1>\n"
   ]
  },
  {
   "cell_type": "code",
   "execution_count": 3,
   "id": "2b56e046",
   "metadata": {},
   "outputs": [
    {
     "name": "stdout",
     "output_type": "stream",
     "text": [
      "('Mubasshir', 'Ahmed', 'Data')\n",
      "('Data', 'Science', 'Python')\n",
      "('Mubasshir', 'Ahmed', 'Data', 'Science')\n",
      "('Science', 'Python', 'AI', 'ML', 'SQL')\n",
      "('Mubasshir', 'Ahmed', 'Data', 'Science', 'Python', 'AI', 'ML', 'SQL')\n",
      "('Python', 'AI', 'ML')\n"
     ]
    }
   ],
   "source": [
    "tup = ('Mubasshir', 'Ahmed', 'Data', 'Science', 'Python', 'AI', 'ML', 'SQL')\n",
    "\n",
    "print(tup[0:3])    # Output: ('Mubasshir', 'Ahmed', 'Data')     → From index 0 to 2\n",
    "print(tup[2:5])    # Output: ('Data', 'Science', 'Python')      → From index 2 to 4\n",
    "print(tup[:4])     # Output: ('Mubasshir', 'Ahmed', 'Data', 'Science') → From start to index 3\n",
    "print(tup[3:])     # Output: ('Science', 'Python', 'AI', 'ML', 'SQL') → From index 3 to end\n",
    "print(tup[:])      # Output: Entire tuple  → ('Mubasshir', 'Ahmed', 'Data', 'Science', 'Python', 'AI', 'ML', 'SQL')\n",
    "print(tup[-4:-1])  # Output: ('Python', 'AI', 'ML')  → Negative indexing slice\n"
   ]
  },
  {
   "cell_type": "markdown",
   "id": "0a334485",
   "metadata": {},
   "source": [
    "<h1 align=\"center\">4. Remove & Change Items (Tuple Immutability)</h1>\n"
   ]
  },
  {
   "cell_type": "code",
   "execution_count": 4,
   "id": "bea620d0",
   "metadata": {},
   "outputs": [],
   "source": [
    "tup = ('Mubasshir', 'Ahmed', 25, 'Python')\n",
    "\n",
    "# Trying to change a value (will raise error)\n",
    "# tup[1] = 'Ali'        # ❌ TypeError: 'tuple' object does not support item assignment\n",
    "\n",
    "# Trying to delete a specific item (will raise error)\n",
    "# del tup[2]            # ❌ TypeError: 'tuple' object doesn't support item deletion\n",
    "\n",
    "# Deleting entire tuple is allowed\n",
    "del tup                # ✅ This will delete the entire tuple from memory\n",
    "\n",
    "# print(tup)            # ❌ NameError: name 'tup' is not defined\n"
   ]
  },
  {
   "cell_type": "markdown",
   "id": "e41b9430",
   "metadata": {},
   "source": [
    "<h1 align=\"center\">5. Loop Through a Tuple</h1>\n"
   ]
  },
  {
   "cell_type": "code",
   "execution_count": 6,
   "id": "120a00ef",
   "metadata": {},
   "outputs": [
    {
     "name": "stdout",
     "output_type": "stream",
     "text": [
      "Mubasshir\n",
      "Ahmed\n",
      "Python\n",
      "Data Science\n",
      "Index 0 → Mubasshir\n",
      "Index 1 → Ahmed\n",
      "Index 2 → Python\n",
      "Index 3 → Data Science\n"
     ]
    }
   ],
   "source": [
    "tup = ('Mubasshir', 'Ahmed', 'Python', 'Data Science')\n",
    "\n",
    "# Using a for loop\n",
    "for item in tup:\n",
    "    print(item)\n",
    "# Output:\n",
    "# Mubasshir\n",
    "# Ahmed\n",
    "# Python\n",
    "# Data Science\n",
    "\n",
    "# Using enumerate() to get index and value\n",
    "for index, value in enumerate(tup):\n",
    "    print(f\"Index {index} → {value}\")\n",
    "# Output:\n",
    "# Index 0 → Mubasshir\n",
    "# Index 1 → Ahmed\n",
    "# Index 2 → Python\n",
    "# Index 3 → Data Science\n"
   ]
  },
  {
   "cell_type": "markdown",
   "id": "f5fd9dc2",
   "metadata": {},
   "source": [
    "<h1 align=\"center\">6. Tuple Membership</h1>\n"
   ]
  },
  {
   "cell_type": "code",
   "execution_count": 8,
   "id": "e3e19825",
   "metadata": {},
   "outputs": [
    {
     "name": "stdout",
     "output_type": "stream",
     "text": [
      "True\n",
      "False\n",
      "Yes, 'AI' is present in the tuple.\n"
     ]
    }
   ],
   "source": [
    "tup = ('Mubasshir', 'Ahmed', 'Python', 'Data', 'AI')\n",
    "\n",
    "# Using `in` operator to check membership\n",
    "print('Python' in tup)     # Output: True\n",
    "print('Machine Learning' in tup)  # Output: False\n",
    "\n",
    "# Using `if-else` with membership\n",
    "if 'AI' in tup:\n",
    "    print(\"Yes, 'AI' is present in the tuple.\")  # Output: Yes, 'AI' is present in the tuple.\n",
    "else:\n",
    "    print(\"No, not found.\")\n"
   ]
  },
  {
   "cell_type": "markdown",
   "id": "a02e72a3",
   "metadata": {},
   "source": [
    "<h1 align=\"center\">7. Index Position</h1>\n"
   ]
  },
  {
   "cell_type": "code",
   "execution_count": 10,
   "id": "be06ded1",
   "metadata": {},
   "outputs": [
    {
     "name": "stdout",
     "output_type": "stream",
     "text": [
      "2\n"
     ]
    }
   ],
   "source": [
    "tup = ('Mubasshir', 'Ahmed', 'Python', 'AI', 'Python')\n",
    "\n",
    "# Finding the index of an element\n",
    "print(tup.index('Python'))  # Output: 2  → Returns first occurrence index\n",
    "\n",
    "# If element is not in tuple, it raises an error\n",
    "# print(tup.index('SQL'))   # ❌ ValueError: tuple.index(x): x not in tuple\n"
   ]
  },
  {
   "cell_type": "markdown",
   "id": "9f88795f",
   "metadata": {},
   "source": [
    "<h1 align=\"center\">8. Sorting Tuples</h1>\n"
   ]
  },
  {
   "cell_type": "code",
   "execution_count": 11,
   "id": "75382b1c",
   "metadata": {},
   "outputs": [
    {
     "name": "stdout",
     "output_type": "stream",
     "text": [
      "[10, 30, 40, 70, 90]\n",
      "[90, 70, 40, 30, 10]\n"
     ]
    }
   ],
   "source": [
    "tup = (40, 10, 90, 30, 70)\n",
    "\n",
    "# Using sorted() – returns a list (not a tuple)\n",
    "sorted_asc = sorted(tup)\n",
    "print(sorted_asc)  # Output: [10, 30, 40, 70, 90] → Ascending order\n",
    "\n",
    "# Sorting in descending order\n",
    "sorted_desc = sorted(tup, reverse=True)\n",
    "print(sorted_desc)  # Output: [90, 70, 40, 30, 10]\n"
   ]
  }
 ],
 "metadata": {
  "kernelspec": {
   "display_name": "base",
   "language": "python",
   "name": "python3"
  },
  "language_info": {
   "codemirror_mode": {
    "name": "ipython",
    "version": 3
   },
   "file_extension": ".py",
   "mimetype": "text/x-python",
   "name": "python",
   "nbconvert_exporter": "python",
   "pygments_lexer": "ipython3",
   "version": "3.12.7"
  }
 },
 "nbformat": 4,
 "nbformat_minor": 5
}
