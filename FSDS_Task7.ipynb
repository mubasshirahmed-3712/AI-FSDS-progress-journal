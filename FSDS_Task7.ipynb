{
 "cells": [
  {
   "cell_type": "markdown",
   "id": "6328beec",
   "metadata": {},
   "source": [
    "<h2 style=\"text-align: center;\">🔹 FSDS Task 7 – Working with Sets</h2>\n",
    "\n",
    "### ✅ What is a Set in Python?\n",
    "- A set is an **unordered**, **unindexed**, and **mutable** collection of **unique elements**.\n",
    "- Defined using `{}` or `set()` function.\n",
    "- Duplicate values are automatically removed.\n"
   ]
  },
  {
   "cell_type": "code",
   "execution_count": 2,
   "id": "59e16d22",
   "metadata": {},
   "outputs": [
    {
     "name": "stdout",
     "output_type": "stream",
     "text": [
      "myset: {1, 2, 3, 4, 5, 6}\n",
      "set1: {1, 2, 3, 4, 5, 6}\n",
      "set2 (duplicates removed): {1, 2, 3, 4, 5}\n",
      "set3 (mixed types): {10, (1, 2, 3), 'Hi', 5.6}\n"
     ]
    }
   ],
   "source": [
    "# Creating a set using curly braces\n",
    "myset = {1, 2, 3, 4, 5, 6}\n",
    "print(\"myset:\", myset)  # {1, 2, 3, 4, 5, 6}\n",
    "\n",
    "# Creating a set using set() function\n",
    "set1 = set([1, 2, 3, 4, 5, 6])\n",
    "print(\"set1:\", set1)    # {1, 2, 3, 4, 5, 6}\n",
    "\n",
    "# Creating a set with duplicate elements\n",
    "set2 = {1, 2, 3, 2, 4, 1, 5}\n",
    "print(\"set2 (duplicates removed):\", set2)  # {1, 2, 3, 4, 5}\n",
    "\n",
    "# Creating a set with different data types\n",
    "set3 = {10, 5.6, 'Hi', (1, 2, 3)}\n",
    "print(\"set3 (mixed types):\", set3)\n"
   ]
  },
  {
   "cell_type": "markdown",
   "id": "2761e350",
   "metadata": {},
   "source": [
    "<h2 style=\"text-align: center;\">🔎 Set Membership Testing</h2>\n",
    "\n",
    "You can use `in` and `not in` to check if an element exists in a set.\n",
    "\n",
    "- `x in myset` → returns `True` if `x` is in the set\n",
    "- `x not in myset` → returns `True` if `x` is NOT in the set\n"
   ]
  },
  {
   "cell_type": "code",
   "execution_count": 3,
   "id": "f4539c13",
   "metadata": {},
   "outputs": [
    {
     "name": "stdout",
     "output_type": "stream",
     "text": [
      "True\n",
      "False\n",
      "False\n",
      "True\n"
     ]
    }
   ],
   "source": [
    "myset = {10, 20, 30, 40, 50}\n",
    "\n",
    "# Check if 20 is in the set\n",
    "print(20 in myset)      # True\n",
    "\n",
    "# Check if 200 is in the set\n",
    "print(200 in myset)     # False\n",
    "\n",
    "# Check if 50 is NOT in the set\n",
    "print(50 not in myset)  # False\n",
    "\n",
    "# Check if 500 is NOT in the set\n",
    "print(500 not in myset) # True\n"
   ]
  },
  {
   "cell_type": "markdown",
   "id": "ea95a202",
   "metadata": {},
   "source": [
    "<h2 style=\"text-align: center;\">🔧 Section 3 – Modifying Sets: add(), remove(), update(), discard(), clear()</h2>\n",
    "\n",
    "Python sets are mutable. You can modify them using the following methods:\n",
    "\n",
    "- `add(item)` – Adds a single element to the set\n",
    "- `update(iterable)` – Adds multiple elements from an iterable (list, tuple, etc.)\n",
    "- `remove(item)` – Removes the specified item (throws an error if not found)\n",
    "- `discard(item)` – Removes the specified item (no error if not found\n"
   ]
  },
  {
   "cell_type": "code",
   "execution_count": 5,
   "id": "0f9521a0",
   "metadata": {},
   "outputs": [
    {
     "name": "stdout",
     "output_type": "stream",
     "text": [
      "Original set: {10, 20, 30}\n",
      "After add(40): {40, 10, 20, 30}\n",
      "After update([50, 60, 70]): {70, 40, 10, 50, 20, 60, 30}\n",
      "After remove(20): {70, 40, 10, 50, 60, 30}\n",
      "After discard(999): {70, 40, 10, 50, 60, 30}\n",
      "After clear(): set()\n"
     ]
    }
   ],
   "source": [
    "myset = {10, 20, 30}\n",
    "print(\"Original set:\", myset)  # {10, 20, 30}\n",
    "\n",
    "# Add a single element\n",
    "myset.add(40)\n",
    "print(\"After add(40):\", myset)  # {40, 10, 20, 30}\n",
    "\n",
    "# Update set with multiple values\n",
    "myset.update([50, 60, 70])\n",
    "print(\"After update([50, 60, 70]):\", myset)  # {70, 40, 10, 50, 20, 60, 30}\n",
    "\n",
    "# Remove a specific element\n",
    "myset.remove(20)\n",
    "print(\"After remove(20):\", myset)  # {70, 40, 10, 50, 60, 30}\n",
    "\n",
    "# Discard an element (safe even if it doesn’t exist)\n",
    "myset.discard(999)\n",
    "print(\"After discard(999):\", myset)  # {70, 40, 10, 50, 60, 30}\n",
    "\n",
    "# Clear the entire set\n",
    "myset.clear()\n",
    "print(\"After clear():\", myset)  # set()\n"
   ]
  },
  {
   "cell_type": "markdown",
   "id": "e0d98ac5",
   "metadata": {},
   "source": [
    "<h2 style=\"text-align: center;\">📋 Set Copy Behavior – Reference vs Copy</h2>\n",
    "\n",
    "- Direct assignment creates a **reference** (both variables point to the same memory location)\n",
    "- `.copy()` creates a **new independent set**\n",
    "- Modifying the original set affects the reference, but not the copy\n"
   ]
  },
  {
   "cell_type": "code",
   "execution_count": 6,
   "id": "e8ac3fa4",
   "metadata": {},
   "outputs": [
    {
     "name": "stdout",
     "output_type": "stream",
     "text": [
      "myset: {'four', 'one', 'six', 'two', 'five', 'eight', 'seven', 'three'}\n",
      "myset1: {'four', 'one', 'six', 'two', 'five', 'eight', 'seven', 'three'}\n",
      "id(myset): 1985604280256\n",
      "id(myset1): 1985604280256\n",
      "my_set (copy): {'four', 'one', 'six', 'two', 'five', 'eight', 'seven', 'three'}\n",
      "id(my_set): 1985604278912\n",
      "After myset.add('nine') → myset: {'nine', 'four', 'one', 'six', 'two', 'five', 'eight', 'seven', 'three'}\n",
      "myset1: {'nine', 'four', 'one', 'six', 'two', 'five', 'eight', 'seven', 'three'}\n",
      "my_set (copy): {'four', 'one', 'six', 'two', 'five', 'eight', 'seven', 'three'}\n"
     ]
    }
   ],
   "source": [
    "# Original set\n",
    "myset = {'one', 'two', 'three', 'four', 'five', 'six', 'seven', 'eight'}\n",
    "print(\"myset:\", myset)  \n",
    "# Output: {'eight', 'five', 'four', 'one', 'seven', 'six', 'three', 'two'}\n",
    "\n",
    "# Create a reference (not a copy)\n",
    "myset1 = myset\n",
    "print(\"myset1:\", myset1)  \n",
    "# Output: {'eight', 'five', 'four', 'one', 'seven', 'six', 'three', 'two'}\n",
    "\n",
    "# Check memory IDs (both same)\n",
    "print(\"id(myset):\", id(myset))     # e.g. 1537349033320\n",
    "print(\"id(myset1):\", id(myset1))   # same as myset\n",
    "\n",
    "# Create an actual copy\n",
    "my_set = myset.copy()\n",
    "print(\"my_set (copy):\", my_set)  \n",
    "# Output: {'eight', 'five', 'four', 'one', 'seven', 'six', 'three', 'two'}\n",
    "\n",
    "# Check ID of copy (should be different)\n",
    "print(\"id(my_set):\", id(my_set))  \n",
    "# Output: different from myset & myset1\n",
    "\n",
    "# Modify original set\n",
    "myset.add('nine')\n",
    "print(\"After myset.add('nine') → myset:\", myset)  \n",
    "# Output: {'eight', 'five', 'four', 'nine', 'one', 'seven', 'six', 'three', 'two'}\n",
    "\n",
    "# myset1 reflects change (same memory)\n",
    "print(\"myset1:\", myset1)  \n",
    "# Output: Same as myset\n",
    "\n",
    "# my_set remains unchanged\n",
    "print(\"my_set (copy):\", my_set)  \n",
    "# Output: {'eight', 'five', 'four', 'one', 'seven', 'six', 'three', 'two'}\n"
   ]
  },
  {
   "cell_type": "markdown",
   "id": "8a1daf0d",
   "metadata": {},
   "source": [
    "<h2 style=\"text-align: center;\">♻️ Section 5 – Set Operations</h2>\n"
   ]
  },
  {
   "cell_type": "code",
   "execution_count": 7,
   "id": "8ce2193a",
   "metadata": {},
   "outputs": [
    {
     "name": "stdout",
     "output_type": "stream",
     "text": [
      "A | B: {1, 2, 3, 4, 5, 6, 7, 8}\n",
      "A.union(B): {1, 2, 3, 4, 5, 6, 7, 8}\n",
      "A.union(B, C): {1, 2, 3, 4, 5, 6, 7, 8, 9, 10}\n",
      "After A.update(B, C): {1, 2, 3, 4, 5, 6, 7, 8, 9, 10}\n"
     ]
    }
   ],
   "source": [
    "A = {1, 2, 3, 4, 5}\n",
    "B = {4, 5, 6, 7, 8}\n",
    "C = {8, 9, 10}\n",
    "\n",
    "print(\"A | B:\", A | B)  # {1, 2, 3, 4, 5, 6, 7, 8}\n",
    "print(\"A.union(B):\", A.union(B))  # {1, 2, 3, 4, 5, 6, 7, 8}\n",
    "print(\"A.union(B, C):\", A.union(B, C))  # {1, 2, 3, 4, 5, 6, 7, 8, 9, 10}\n",
    "\n",
    "# update() modifies A\n",
    "A.update(B, C)\n",
    "print(\"After A.update(B, C):\", A)  # {1,2,3,4,5,6,7,8,9,10}\n"
   ]
  },
  {
   "cell_type": "code",
   "execution_count": 8,
   "id": "143a3141",
   "metadata": {},
   "outputs": [
    {
     "name": "stdout",
     "output_type": "stream",
     "text": [
      "A & B: {4, 5}\n",
      "A.intersection(B): {4, 5}\n",
      "After A.intersection_update(B): {4, 5}\n"
     ]
    }
   ],
   "source": [
    "A = {1, 2, 3, 4, 5}\n",
    "B = {4, 5, 6, 7, 8}\n",
    "\n",
    "print(\"A & B:\", A & B)  # {4, 5}\n",
    "print(\"A.intersection(B):\", A.intersection(B))  # {4, 5}\n",
    "\n",
    "# intersection_update modifies A\n",
    "A.intersection_update(B)\n",
    "print(\"After A.intersection_update(B):\", A)  # {4, 5}\n"
   ]
  },
  {
   "cell_type": "code",
   "execution_count": 9,
   "id": "75ba2439",
   "metadata": {},
   "outputs": [
    {
     "name": "stdout",
     "output_type": "stream",
     "text": [
      "A - B: {1, 2, 3}\n",
      "A.difference(B): {1, 2, 3}\n",
      "B - A: {8, 6, 7}\n",
      "B.difference(A): {8, 6, 7}\n",
      "After B.difference_update(A): {6, 7, 8}\n"
     ]
    }
   ],
   "source": [
    "A = {1, 2, 3, 4, 5}\n",
    "B = {4, 5, 6, 7, 8}\n",
    "\n",
    "print(\"A - B:\", A - B)  # {1, 2, 3}\n",
    "print(\"A.difference(B):\", A.difference(B))  # {1, 2, 3}\n",
    "print(\"B - A:\", B - A)  # {6, 7, 8}\n",
    "print(\"B.difference(A):\", B.difference(A))  # {6, 7, 8}\n",
    "\n",
    "# difference_update modifies B\n",
    "B.difference_update(A)\n",
    "print(\"After B.difference_update(A):\", B)  # {6, 7, 8}\n"
   ]
  },
  {
   "cell_type": "code",
   "execution_count": 10,
   "id": "85eba396",
   "metadata": {},
   "outputs": [
    {
     "name": "stdout",
     "output_type": "stream",
     "text": [
      "A ^ B: {1, 2, 3, 6, 7, 8}\n",
      "A.symmetric_difference(B): {1, 2, 3, 6, 7, 8}\n",
      "After A.symmetric_difference_update(B): {1, 2, 3, 6, 7, 8}\n"
     ]
    }
   ],
   "source": [
    "A = {1, 2, 3, 4, 5}\n",
    "B = {4, 5, 6, 7, 8}\n",
    "\n",
    "print(\"A ^ B:\", A ^ B)  # {1, 2, 3, 6, 7, 8}\n",
    "print(\"A.symmetric_difference(B):\", A.symmetric_difference(B))  # {1, 2, 3, 6, 7, 8}\n",
    "\n",
    "# symmetric_difference_update modifies A\n",
    "A.symmetric_difference_update(B)\n",
    "print(\"After A.symmetric_difference_update(B):\", A)  # {1, 2, 3, 6, 7, 8}\n"
   ]
  },
  {
   "cell_type": "code",
   "execution_count": 11,
   "id": "dfc89a67",
   "metadata": {},
   "outputs": [
    {
     "name": "stdout",
     "output_type": "stream",
     "text": [
      "B.issubset(A): True\n",
      "A.issuperset(B): True\n",
      "C.isdisjoint(A): True\n",
      "B.isdisjoint(A): False\n"
     ]
    }
   ],
   "source": [
    "A = {1,2,3,4,5,6,7,8,9}\n",
    "B = {3,4,5,6,7,8}\n",
    "C = {10,20,30,40}\n",
    "\n",
    "print(\"B.issubset(A):\", B.issubset(A))      # True\n",
    "print(\"A.issuperset(B):\", A.issuperset(B))  # True\n",
    "print(\"C.isdisjoint(A):\", C.isdisjoint(A))  # True\n",
    "print(\"B.isdisjoint(A):\", B.isdisjoint(A))  # False\n"
   ]
  },
  {
   "cell_type": "code",
   "execution_count": 12,
   "id": "d4320435",
   "metadata": {},
   "outputs": [
    {
     "name": "stdout",
     "output_type": "stream",
     "text": [
      "sum(A): 45\n",
      "max(A): 9\n",
      "min(A): 1\n",
      "len(A): 9\n",
      "list(enumerate(A)): [(0, 1), (1, 2), (2, 3), (3, 4), (4, 5), (5, 6), (6, 7), (7, 8), (8, 9)]\n",
      "Sorted Desc: [9, 8, 7, 6, 5, 4, 3, 2, 1]\n",
      "Sorted Asc: [1, 2, 3, 4, 5, 6, 7, 8, 9]\n"
     ]
    }
   ],
   "source": [
    "A = {1, 2, 3, 4, 5, 6, 7, 8, 9}\n",
    "\n",
    "print(\"sum(A):\", sum(A))        # 45\n",
    "print(\"max(A):\", max(A))        # 9\n",
    "print(\"min(A):\", min(A))        # 1\n",
    "print(\"len(A):\", len(A))        # 9\n",
    "print(\"list(enumerate(A)):\", list(enumerate(A)))  \n",
    "# [(0, 1), (1, 2), (2, 3), ..., (8, 9)]\n",
    "\n",
    "D = sorted(A, reverse=True)\n",
    "print(\"Sorted Desc:\", D)        # [9, 8, 7, 6, 5, 4, 3, 2, 1]\n",
    "print(\"Sorted Asc:\", sorted(D)) # [1, 2, 3, 4, 5, 6, 7, 8, 9]\n"
   ]
  },
  {
   "cell_type": "markdown",
   "id": "0b986faa",
   "metadata": {},
   "source": [
    "<h2 style=\"text-align: center;\">🗂️ Section 1 – Dictionary Creation & Accessing Elements</h2>\n",
    "\n",
    "- A dictionary in Python is an **unordered**, **mutable** collection of **key-value pairs**\n",
    "- Created using curly braces `{}` or `dict()` function\n"
   ]
  },
  {
   "cell_type": "code",
   "execution_count": 13,
   "id": "20a67f84",
   "metadata": {},
   "outputs": [
    {
     "name": "stdout",
     "output_type": "stream",
     "text": [
      "{}\n",
      "{}\n",
      "{1: 'one', 2: 'two', 3: 'three'}\n",
      "{1: 'one', 2: 'two', 3: 'three'}\n",
      "{'A': 'one', 'B': 'two', 'C': 'three'}\n",
      "{1: 'one', 'M': 'two', 3: 'three'}\n",
      "dict_keys([1, 'M', 3])\n",
      "dict_values(['one', 'two', 'three'])\n",
      "dict_items([(1, 'one'), ('M', 'two'), (3, 'three')])\n",
      "{1: 'one', 2: 'two', 'Friends': ['Mubasshir Ahmed', 'Mohsin', 'Maria']}\n",
      "{1: 'one', 2: 'two', 'Friends': ['Mubasshir Ahmed', 'Mohsin', 'Maria'], 'Pets': ('Cat', 'Dog', 'Parrot')}\n",
      "{1: 'one', 2: 'two', 'Student': {'Name': 'Mubasshir Ahmed', 'Age': 20}, 'Hobbies': ('Cricket', 'Coding', 'Travelling')}\n",
      "{'c': None, 'd': None, 'a': None, 'b': None}\n",
      "{'c': 10, 'd': 10, 'a': 10, 'b': 10}\n",
      "{'c': [10, 20, 30], 'd': [10, 20, 30], 'a': [10, 20, 30], 'b': [10, 20, 30]}\n",
      "{'c': [10, 20, 30, 40], 'd': [10, 20, 30, 40], 'a': [10, 20, 30, 40], 'b': [10, 20, 30, 40]}\n"
     ]
    }
   ],
   "source": [
    "# Empty dictionary\n",
    "mydict = dict()\n",
    "print(mydict)  # {}\n",
    "\n",
    "mydict = {}\n",
    "print(mydict)  # {}\n",
    "\n",
    "# Dictionary with integer keys\n",
    "mydict = {1: 'one', 2: 'two', 3: 'three'}\n",
    "print(mydict)  # {1: 'one', 2: 'two', 3: 'three'}\n",
    "\n",
    "# Using dict() constructor\n",
    "mydict = dict({1: 'one', 2: 'two', 3: 'three'})\n",
    "print(mydict)  # {1: 'one', 2: 'two', 3: 'three'}\n",
    "\n",
    "# Dictionary with character keys\n",
    "mydict = {'A': 'one', 'B': 'two', 'C': 'three'}\n",
    "print(mydict)  # {'A': 'one', 'B': 'two', 'C': 'three'}\n",
    "\n",
    "# Mixed-type keys\n",
    "mydict = {1: 'one', 'M': 'two', 3: 'three'}\n",
    "print(mydict)  # {1: 'one', 'M': 'two', 3: 'three'}\n",
    "\n",
    "# Keys, values, items\n",
    "print(mydict.keys())    # dict_keys([1, 'M', 3])\n",
    "print(mydict.values())  # dict_values(['one', 'two', 'three'])\n",
    "print(mydict.items())   # dict_items([(1, 'one'), ('M', 'two'), (3, 'three')])\n",
    "\n",
    "# Dictionary with list as value\n",
    "mydict = {\n",
    "    1: 'one',\n",
    "    2: 'two',\n",
    "    'Friends': ['Mubasshir Ahmed', 'Mohsin', 'Maria']\n",
    "}\n",
    "print(mydict)\n",
    "# {'Friends': ['Mubasshir Ahmed', 'Mohsin', 'Maria']}\n",
    "\n",
    "# Dictionary with tuple as value\n",
    "mydict = {\n",
    "    1: 'one',\n",
    "    2: 'two',\n",
    "    'Friends': ['Mubasshir Ahmed', 'Mohsin', 'Maria'],\n",
    "    'Pets': ('Cat', 'Dog', 'Parrot')\n",
    "}\n",
    "print(mydict)\n",
    "\n",
    "# Nested dictionary as value\n",
    "mydict = {\n",
    "    1: 'one',\n",
    "    2: 'two',\n",
    "    'Student': {'Name': 'Mubasshir Ahmed', 'Age': 20},\n",
    "    'Hobbies': ('Cricket', 'Coding', 'Travelling')\n",
    "}\n",
    "print(mydict)\n",
    "\n",
    "# Using fromkeys() with default None\n",
    "keys = {'a', 'b', 'c', 'd'}\n",
    "mydict3 = dict.fromkeys(keys)\n",
    "print(mydict3)\n",
    "# {'c': None, 'd': None, 'a': None, 'b': None}\n",
    "\n",
    "# fromkeys() with value\n",
    "value = 10\n",
    "mydict3 = dict.fromkeys(keys, value)\n",
    "print(mydict3)\n",
    "# {'c': 10, 'd': 10, 'a': 10, 'b': 10}\n",
    "\n",
    "# fromkeys() with list\n",
    "value = [10, 20, 30]\n",
    "mydict3 = dict.fromkeys(keys, value)\n",
    "print(mydict3)\n",
    "# All keys share the same list reference\n",
    "\n",
    "value.append(40)\n",
    "print(mydict3)\n",
    "# All keys will reflect: [10, 20, 30, 40]\n"
   ]
  },
  {
   "cell_type": "code",
   "execution_count": 14,
   "id": "6e2ad74e",
   "metadata": {},
   "outputs": [
    {
     "name": "stdout",
     "output_type": "stream",
     "text": [
      "one\n",
      "one\n",
      "Mubasshir Ahmed\n",
      "Data Analyst Intern\n"
     ]
    }
   ],
   "source": [
    "mydict = {1: 'one', 2: 'two', 3: 'three', 4: 'four'}\n",
    "print(mydict[1])          # one\n",
    "print(mydict.get(1))      # one\n",
    "\n",
    "mydict1 = {\n",
    "    'Name': 'Mubasshir Ahmed',\n",
    "    'ID': 37125,\n",
    "    'DOB': 2004,\n",
    "    'Role': 'Data Analyst Intern'\n",
    "}\n",
    "print(mydict1['Name'])      # Mubasshir Ahmed\n",
    "print(mydict1.get('Role'))  # Data Analyst Intern\n"
   ]
  },
  {
   "cell_type": "markdown",
   "id": "5705e54b",
   "metadata": {},
   "source": [
    "<h2 style=\"text-align: center;\">🧱 Section 4 – Add, Remove, Update & Copy Dictionary Items</h2>\n",
    "\n",
    "📌 Dictionary allows:\n",
    "- Modifying values using `[]` or `.update()`\n",
    "- Adding new key-value pairs\n",
    "- Removing entries using `pop()`, `popitem()`, `del`, and `clear()`\n",
    "- Understanding memory reference vs deep copy\n"
   ]
  },
  {
   "cell_type": "code",
   "execution_count": 15,
   "id": "35b67c0c",
   "metadata": {},
   "outputs": [
    {
     "name": "stdout",
     "output_type": "stream",
     "text": [
      "{'Name': 'Mubasshir Ahmed', 'ID': 12345, 'DOB': 2004, 'Address': 'Hyderabad'}\n",
      "After updating DOB & Address: {'Name': 'Mubasshir Ahmed', 'ID': 12345, 'DOB': 2005, 'Address': 'Delhi'}\n",
      "After update(): {'Name': 'Mubasshir Ahmed', 'ID': 12345, 'DOB': 2006, 'Address': 'Delhi'}\n",
      "After adding Role: {'Name': 'Mubasshir Ahmed', 'ID': 12345, 'DOB': 2006, 'Address': 'Delhi', 'Role': 'AI Student'}\n",
      "After pop('Role'): {'Name': 'Mubasshir Ahmed', 'ID': 12345, 'DOB': 2006, 'Address': 'Delhi'}\n",
      "After popitem(): {'Name': 'Mubasshir Ahmed', 'ID': 12345, 'DOB': 2006}\n",
      "After del ID: {'Name': 'Mubasshir Ahmed', 'DOB': 2006}\n",
      "After clear(): {}\n"
     ]
    }
   ],
   "source": [
    "# Original dictionary with your details\n",
    "mydict1 = {\n",
    "    'Name': 'Mubasshir Ahmed',\n",
    "    'ID': 12345,\n",
    "    'DOB': 2004,\n",
    "    'Address': 'Hyderabad'\n",
    "}\n",
    "print(mydict1)\n",
    "# {'Name': 'Mubasshir Ahmed', 'ID': 12345, 'DOB': 2004, 'Address': 'Hyderabad'}\n",
    "\n",
    "# Updating values\n",
    "mydict1['DOB'] = 2005\n",
    "mydict1['Address'] = 'Delhi'\n",
    "print(\"After updating DOB & Address:\", mydict1)\n",
    "# {'Name': 'Mubasshir Ahmed', 'ID': 12345, 'DOB': 2005, 'Address': 'Delhi'}\n",
    "\n",
    "# Using update() to modify\n",
    "update_info = {'DOB': 2006}\n",
    "mydict1.update(update_info)\n",
    "print(\"After update():\", mydict1)\n",
    "# {'Name': 'Mubasshir Ahmed', 'ID': 12345, 'DOB': 2006, 'Address': 'Delhi'}\n",
    "\n",
    "# Adding new key\n",
    "mydict1['Role'] = 'AI Student'\n",
    "print(\"After adding Role:\", mydict1)\n",
    "\n",
    "# Removing items\n",
    "mydict1.pop('Role')\n",
    "print(\"After pop('Role'):\", mydict1)\n",
    "\n",
    "mydict1.popitem()  # Removes last inserted (Address)\n",
    "print(\"After popitem():\", mydict1)\n",
    "\n",
    "del mydict1['ID']\n",
    "print(\"After del ID:\", mydict1)\n",
    "\n",
    "mydict1.clear()\n",
    "print(\"After clear():\", mydict1)\n",
    "# Output: {}\n"
   ]
  },
  {
   "cell_type": "code",
   "execution_count": 17,
   "id": "2eb11a49",
   "metadata": {},
   "outputs": [
    {
     "name": "stdout",
     "output_type": "stream",
     "text": [
      "Before deleting dict: {'Name': 'Mubasshir Ahmed', 'DOB': 2004}\n"
     ]
    },
    {
     "ename": "NameError",
     "evalue": "name 'mydict1' is not defined",
     "output_type": "error",
     "traceback": [
      "\u001b[1;31m---------------------------------------------------------------------------\u001b[0m",
      "\u001b[1;31mNameError\u001b[0m                                 Traceback (most recent call last)",
      "Cell \u001b[1;32mIn[17], line 5\u001b[0m\n\u001b[0;32m      2\u001b[0m \u001b[38;5;28mprint\u001b[39m(\u001b[38;5;124m\"\u001b[39m\u001b[38;5;124mBefore deleting dict:\u001b[39m\u001b[38;5;124m\"\u001b[39m, mydict1)\n\u001b[0;32m      4\u001b[0m \u001b[38;5;28;01mdel\u001b[39;00m mydict1\n\u001b[1;32m----> 5\u001b[0m \u001b[38;5;28mprint\u001b[39m(mydict1)\n",
      "\u001b[1;31mNameError\u001b[0m: name 'mydict1' is not defined"
     ]
    }
   ],
   "source": [
    "mydict1 = {'Name': 'Mubasshir Ahmed', 'DOB': 2004}\n",
    "print(\"Before deleting dict:\", mydict1)\n",
    "\n",
    "del mydict1\n",
    "print(mydict1)  # Uncommenting will raise: NameError: name 'mydict1' is not defined\n"
   ]
  },
  {
   "cell_type": "code",
   "execution_count": 18,
   "id": "b50af62b",
   "metadata": {},
   "outputs": [
    {
     "name": "stdout",
     "output_type": "stream",
     "text": [
      "id(mydict): 1985603880064\n",
      "id(mydict1): 1985603880064\n",
      "id(mydict2): 1985618953600\n",
      "mydict: {'Name': 'Mubasshir Ahmed', 'ID': 12345, 'DOB': 2004, 'Address': 'Mumbai'}\n",
      "mydict1 (reference): {'Name': 'Mubasshir Ahmed', 'ID': 12345, 'DOB': 2004, 'Address': 'Mumbai'}\n",
      "mydict2 (copy): {'Name': 'Mubasshir Ahmed', 'ID': 12345, 'DOB': 2004, 'Address': 'Hyderabad'}\n"
     ]
    }
   ],
   "source": [
    "# Re-creating dictionary\n",
    "mydict = {\n",
    "    'Name': 'Mubasshir Ahmed',\n",
    "    'ID': 12345,\n",
    "    'DOB': 2004,\n",
    "    'Address': 'Hyderabad'\n",
    "}\n",
    "\n",
    "# Reference assignment\n",
    "mydict1 = mydict\n",
    "print(\"id(mydict):\", id(mydict))\n",
    "print(\"id(mydict1):\", id(mydict1))  # Same as mydict\n",
    "\n",
    "# Copy\n",
    "mydict2 = mydict.copy()\n",
    "print(\"id(mydict2):\", id(mydict2))  # Different from mydict\n",
    "\n",
    "# Modify original\n",
    "mydict['Address'] = 'Mumbai'\n",
    "\n",
    "print(\"mydict:\", mydict)\n",
    "print(\"mydict1 (reference):\", mydict1)\n",
    "print(\"mydict2 (copy):\", mydict2)  # Will retain original value\n"
   ]
  },
  {
   "cell_type": "markdown",
   "id": "f9326aa5",
   "metadata": {},
   "source": [
    "<h2 style=\"text-align: center;\">🔁 Section 5 – Looping Through Dictionary & Membership Test</h2>\n",
    "\n",
    "✅ You can loop through:\n",
    "- Only keys using: `for key in dict`\n",
    "- Keys + values using: `dict[key]`\n",
    "- Or use `.items()` for both key-value directly\n",
    "\n",
    "🧠 Use `in` to check key existence (not values).\n",
    "\n"
   ]
  },
  {
   "cell_type": "code",
   "execution_count": 19,
   "id": "2fd49ad2",
   "metadata": {},
   "outputs": [
    {
     "name": "stdout",
     "output_type": "stream",
     "text": [
      "Name : Mubasshir Ahmed\n",
      "ID : 37125\n",
      "DOB : 2004\n",
      "Address : Hyderabad\n",
      "Job : Data Analyst\n",
      "Mubasshir Ahmed\n",
      "37125\n",
      "2004\n",
      "Hyderabad\n",
      "Data Analyst\n"
     ]
    }
   ],
   "source": [
    "# Dictionary with Mubasshir's data\n",
    "mydict1 = {\n",
    "    'Name': 'Mubasshir Ahmed',\n",
    "    'ID': 37125,\n",
    "    'DOB': 2004,\n",
    "    'Address': 'Hyderabad',\n",
    "    'Job': 'Data Analyst'\n",
    "}\n",
    "\n",
    "# Looping through keys and values\n",
    "for key in mydict1:\n",
    "    print(key, ':', mydict1[key])\n",
    "# Output:\n",
    "# Name : Mubasshir Ahmed\n",
    "# ID : 37125\n",
    "# DOB : 2004\n",
    "# Address : Hyderabad\n",
    "# Job : Data Analyst\n",
    "\n",
    "# Looping through values only\n",
    "for key in mydict1:\n",
    "    print(mydict1[key])\n",
    "# Output:\n",
    "# Mubasshir Ahmed\n",
    "# 37125\n",
    "# 2004\n",
    "# Hyderabad\n",
    "# Data Analyst\n"
   ]
  },
  {
   "cell_type": "code",
   "execution_count": 20,
   "id": "23c1a2d4",
   "metadata": {},
   "outputs": [
    {
     "name": "stdout",
     "output_type": "stream",
     "text": [
      "True\n",
      "False\n",
      "True\n",
      "False\n"
     ]
    }
   ],
   "source": [
    "# Test if a key is in dictionary\n",
    "print('Name' in mydict1)      # True\n",
    "print('Mubasshir Ahmed' in mydict1)  # False (it's a value)\n",
    "print('ID' in mydict1)        # True\n",
    "print('Email' in mydict1)     # False\n"
   ]
  },
  {
   "cell_type": "markdown",
   "id": "95069740",
   "metadata": {},
   "source": [
    "<h2 style=\"text-align: center;\">✅ Section 6 – Dictionary Built-in Functions: all(), any(), len(), sorted()</h2>\n",
    "\n",
    "📌 Useful built-in functions for dictionaries:\n",
    "\n",
    "- `all(dict)` → True if **all keys** are truthy (non-zero, non-empty)\n",
    "- `any(dict)` → True if **any key** is truthy\n",
    "- `len(dict)` → Number of key-value pairs\n",
    "- `sorted(dict)` → Returns sorted list of keys\n"
   ]
  },
  {
   "cell_type": "code",
   "execution_count": 22,
   "id": "cde5dcd9",
   "metadata": {},
   "outputs": [
    {
     "name": "stdout",
     "output_type": "stream",
     "text": [
      "True\n",
      "True\n"
     ]
    }
   ],
   "source": [
    "# Dictionary with Mubasshir's data\n",
    "mydict1 = {\n",
    "    'Name': 'Mubasshir Ahmed',\n",
    "    'ID': 37125,\n",
    "    'DOB': 2004,\n",
    "    'Job': 'Data Analyst'\n",
    "}\n",
    "\n",
    "print(all(mydict1))   # True, all keys are non-zero and not empty\n",
    "print(any(mydict1))   # True, at least one key exists\n"
   ]
  },
  {
   "cell_type": "code",
   "execution_count": 23,
   "id": "6055df31",
   "metadata": {},
   "outputs": [
    {
     "name": "stdout",
     "output_type": "stream",
     "text": [
      "False\n",
      "True\n"
     ]
    }
   ],
   "source": [
    "# Falsy key example\n",
    "dict_with_zero = {\n",
    "    'Name': 'Mubasshir',\n",
    "    'ID': 0,        # 0 is falsy but it’s a value, not a key!\n",
    "    '': 'EmptyKey'  # Empty string key is falsy\n",
    "}\n",
    "\n",
    "print(all(dict_with_zero))  # False, one key is ''\n",
    "print(any(dict_with_zero))  # True, at least one key is non-empty\n"
   ]
  },
  {
   "cell_type": "code",
   "execution_count": 24,
   "id": "badedd66",
   "metadata": {},
   "outputs": [
    {
     "name": "stdout",
     "output_type": "stream",
     "text": [
      "4\n",
      "['DOB', 'ID', 'Job', 'Name']\n"
     ]
    }
   ],
   "source": [
    "print(len(mydict1))        # 4 (number of keys)\n",
    "print(sorted(mydict1))     # ['DOB', 'ID', 'Job', 'Name']\n"
   ]
  }
 ],
 "metadata": {
  "kernelspec": {
   "display_name": "base",
   "language": "python",
   "name": "python3"
  },
  "language_info": {
   "codemirror_mode": {
    "name": "ipython",
    "version": 3
   },
   "file_extension": ".py",
   "mimetype": "text/x-python",
   "name": "python",
   "nbconvert_exporter": "python",
   "pygments_lexer": "ipython3",
   "version": "3.12.7"
  }
 },
 "nbformat": 4,
 "nbformat_minor": 5
}
