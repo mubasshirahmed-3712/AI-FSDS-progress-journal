{
 "cells": [
  {
   "cell_type": "markdown",
   "id": "82cf9f96",
   "metadata": {},
   "source": [
    "<h3 style=\"text-align: center;\">🧠 FSDS Task 8 – Python -RANGE,-OPERATORS,-NUMBERSYSTEMS</h3>\n",
    "\n",
    "---\n",
    "\n",
    "### 📘 Topics Covered Today:\n",
    "\n",
    "1. 📌 `range()` function\n",
    "2. 🔢 Python Operators:\n",
    "   - Arithmetic  \n",
    "   - Comparison  \n",
    "   - Logical  \n",
    "   - Identity  \n",
    "   - Membership  \n",
    "   - Bitwise  \n",
    "3. 🔢 Number Systems:\n",
    "   - Binary, Octal, Hexadecimal\n",
    "   - Conversion using `bin()`, `oct()`, `hex()`, `int()`\n",
    "\n",
    "🧑‍💻 Mubasshir Ahmed \n"
   ]
  },
  {
   "cell_type": "markdown",
   "id": "c23909be",
   "metadata": {},
   "source": [
    "<h2 style=\"text-align: center;\">🔹 Section 1 – The <code>range()</code> Function in Python</h2>\n",
    "\n",
    "📌 The `range()` function generates a sequence of numbers.  \n",
    "It is widely used in loops and supports 3 variations:\n",
    "- `range(stop)`\n",
    "- `range(start, stop)`\n",
    "- `range(start, stop, step)`\n"
   ]
  },
  {
   "cell_type": "code",
   "execution_count": 3,
   "id": "96448998",
   "metadata": {},
   "outputs": [
    {
     "name": "stdout",
     "output_type": "stream",
     "text": [
      "[0, 1, 2, 3, 4]\n",
      "[2, 3, 4, 5]\n",
      "[1, 3, 5, 7, 9]\n",
      "Mubasshir is practicing Python... (0)\n",
      "Mubasshir is practicing Python... (1)\n",
      "Mubasshir is practicing Python... (2)\n"
     ]
    }
   ],
   "source": [
    "# range(stop): Generates numbers from 0 to stop - 1\n",
    "print(list(range(5)))  # ➤ [0, 1, 2, 3, 4]\n",
    "\n",
    "# range(start, stop): Starts from 2, goes up to 5\n",
    "print(list(range(2, 6)))  # ➤ [2, 3, 4, 5]\n",
    "\n",
    "# range(start, stop, step): Starts at 1, skips every 2nd number\n",
    "print(list(range(1, 10, 2)))  # ➤ [1, 3, 5, 7, 9]\n",
    "\n",
    "# Using range in a loop\n",
    "for i in range(3):\n",
    "    print(f\"Mubasshir is practicing Python... ({i})\")\n",
    "# ➤ Mubasshir is practicing Python... (0)\n",
    "# ➤ Mubasshir is practicing Python... (1)\n",
    "# ➤ Mubasshir is practicing Python... (2)\n"
   ]
  },
  {
   "cell_type": "markdown",
   "id": "52339a72",
   "metadata": {},
   "source": [
    "<h2 style=\"text-align: center;\">🔹 Section 2 – Arithmetic Operators in Python</h2>\n",
    "\n",
    "Arithmetic operators are used to perform basic mathematical operations such as addition, subtraction, multiplication, etc.\n",
    "\n",
    "| Operator | Description          | Example        |\n",
    "|----------|----------------------|----------------|\n",
    "| `+`      | Addition              | `5 + 3` → `8`  |\n",
    "| `-`      | Subtraction           | `5 - 3` → `2`  |\n",
    "| `*`      | Multiplication        | `5 * 3` → `15` |\n",
    "| `/`      | Division              | `5 / 2` → `2.5`|\n",
    "| `//`     | Floor Division        | `5 // 2` → `2` |\n",
    "| `%`      | Modulus (Remainder)  | `5 % 2` → `1`  |\n",
    "| `**`     | Exponentiation        | `2 ** 3` → `8` |\n"
   ]
  },
  {
   "cell_type": "code",
   "execution_count": 4,
   "id": "23c076a0",
   "metadata": {},
   "outputs": [
    {
     "name": "stdout",
     "output_type": "stream",
     "text": [
      "15\n",
      "5\n",
      "50\n",
      "2.5\n",
      "2\n",
      "2\n",
      "16\n"
     ]
    }
   ],
   "source": [
    "# Arithmetic operations with output in comments\n",
    "\n",
    "print(10 + 5)      # ➤ 15 (Addition)\n",
    "print(10 - 5)      # ➤ 5 (Subtraction)\n",
    "print(10 * 5)      # ➤ 50 (Multiplication)\n",
    "print(10 / 4)      # ➤ 2.5 (Division - returns float)\n",
    "print(10 // 4)     # ➤ 2 (Floor Division - drops decimal part)\n",
    "print(10 % 4)      # ➤ 2 (Modulus - remainder)\n",
    "print(2 ** 4)      # ➤ 16 (Exponentiation)\n"
   ]
  },
  {
   "cell_type": "markdown",
   "id": "0124fc3e",
   "metadata": {},
   "source": [
    "<h2 style=\"text-align: center;\">🔹 Section 3 – Comparison Operators in Python</h2>\n",
    "\n",
    "Comparison operators are used to compare values.  \n",
    "They return Boolean values (`True` or `False`) based on the condition.\n",
    "\n",
    "| Operator | Description         | Example       |\n",
    "|----------|---------------------|---------------|\n",
    "| `==`     | Equal to            | `5 == 5` → `True` |\n",
    "| `!=`     | Not equal to        | `5 != 3` → `True` |\n",
    "| `>`      | Greater than        | `5 > 3` → `True`  |\n",
    "| `<`      | Less than           | `3 < 5` → `True`  |\n",
    "| `>=`     | Greater or equal    | `5 >= 5` → `True` |\n",
    "| `<=`     | Less or equal       | `3 <= 5` → `True` |\n"
   ]
  },
  {
   "cell_type": "code",
   "execution_count": 6,
   "id": "124c7e9f",
   "metadata": {},
   "outputs": [
    {
     "name": "stdout",
     "output_type": "stream",
     "text": [
      "True\n",
      "True\n",
      "True\n",
      "False\n",
      "True\n",
      "False\n"
     ]
    }
   ],
   "source": [
    "# Comparison operations with outputs\n",
    "\n",
    "print(10 == 10)     # ➤ True\n",
    "print(10 != 5)      # ➤ True\n",
    "print(10 > 5)       # ➤ True\n",
    "print(10 < 5)       # ➤ False\n",
    "print(10 >= 10)     # ➤ True\n",
    "print(10 <= 9)      # ➤ False\n"
   ]
  },
  {
   "cell_type": "markdown",
   "id": "de509203",
   "metadata": {},
   "source": [
    "<h2 style=\"text-align: center;\">🔹 Section 4 – Logical Operators in Python</h2>\n",
    "\n",
    "Logical operators are used to combine conditional statements.  \n",
    "They evaluate expressions and return `True` or `False`.\n",
    "\n",
    "| Operator | Description                         | Example                     |\n",
    "|----------|-------------------------------------|-----------------------------|\n",
    "| `and`    | True if both operands are true      | `True and True` → `True`   |\n",
    "| `or`     | True if at least one operand is true| `True or False` → `True`   |\n",
    "| `not`    | Reverses the result                 | `not True` → `False`       |\n"
   ]
  },
  {
   "cell_type": "code",
   "execution_count": 7,
   "id": "5cf99cb1",
   "metadata": {},
   "outputs": [
    {
     "name": "stdout",
     "output_type": "stream",
     "text": [
      "True\n",
      "False\n",
      "True\n",
      "False\n",
      "True\n"
     ]
    }
   ],
   "source": [
    "# Logical operations with comments\n",
    "\n",
    "x = 5\n",
    "y = 10\n",
    "\n",
    "print(x > 2 and y > 5)   # ➤ True (both conditions are True)\n",
    "print(x > 6 and y > 5)   # ➤ False (x > 6 is False)\n",
    "\n",
    "print(x > 6 or y > 5)    # ➤ True (one condition is True)\n",
    "print(x > 6 or y < 5)    # ➤ False (both conditions are False)\n",
    "\n",
    "print(not (x > 6))       # ➤ True (x > 6 is False, not makes it True)\n"
   ]
  },
  {
   "cell_type": "markdown",
   "id": "3860585d",
   "metadata": {},
   "source": [
    "<h2 style=\"text-align: center;\">🔹 Section 5 – Identity Operators in Python</h2>\n",
    "\n",
    "Identity operators are used to compare the memory location of two objects.\n",
    "\n",
    "| Operator   | Description                                 | Example                  |\n",
    "|------------|---------------------------------------------|--------------------------|\n",
    "| `is`       | Returns True if both variables refer to same object | `x is y`          |\n",
    "| `is not`   | Returns True if they do not refer to same object | `x is not y`      |\n"
   ]
  },
  {
   "cell_type": "code",
   "execution_count": 8,
   "id": "0642f239",
   "metadata": {},
   "outputs": [
    {
     "name": "stdout",
     "output_type": "stream",
     "text": [
      "True\n",
      "False\n",
      "True\n",
      "True\n"
     ]
    }
   ],
   "source": [
    "# Identity operator examples\n",
    "\n",
    "a = [1, 2, 3]\n",
    "b = [1, 2, 3]\n",
    "c = a\n",
    "\n",
    "print(a is c)       # ➤ True (c refers to same object as a)\n",
    "print(a is b)       # ➤ False (b is a different object with same content)\n",
    "print(a == b)       # ➤ True (values are the same)\n",
    "print(a is not b)   # ➤ True (different objects)\n"
   ]
  },
  {
   "cell_type": "markdown",
   "id": "e3efbfc9",
   "metadata": {},
   "source": [
    "<h2 style=\"text-align: center;\">🔹 Section 6 – Membership Operators in Python</h2>\n",
    "\n",
    "Membership operators are used to test whether a value exists in a sequence (like string, list, tuple, etc.).\n",
    "\n",
    "| Operator | Description                         | Example                  |\n",
    "|----------|-------------------------------------|--------------------------|\n",
    "| `in`     | Returns True if value is found      | `'a' in 'apple'` → True  |\n",
    "| `not in` | Returns True if value is not found  | `'x' not in 'apple'` → True |\n"
   ]
  },
  {
   "cell_type": "code",
   "execution_count": 10,
   "id": "48c5cf08",
   "metadata": {},
   "outputs": [
    {
     "name": "stdout",
     "output_type": "stream",
     "text": [
      "True\n",
      "False\n",
      "True\n",
      "True\n",
      "True\n"
     ]
    }
   ],
   "source": [
    "# Membership operator examples\n",
    "\n",
    "fruits = ['apple', 'banana', 'mango']\n",
    "\n",
    "print('apple' in fruits)      # ➤ True\n",
    "print('grape' in fruits)      # ➤ False\n",
    "print('grape' not in fruits)  # ➤ True\n",
    "\n",
    "name = \"Mubasshir\"\n",
    "print('a' in name)            # ➤ True\n",
    "print('f' not in name)        # ➤ True\n"
   ]
  },
  {
   "cell_type": "markdown",
   "id": "a6fd4553",
   "metadata": {},
   "source": [
    "<h2 style=\"text-align: center;\">🔹 Section 7 – Bitwise Operators in Python</h2>\n",
    "\n",
    "Bitwise operators work on bits and perform bit-by-bit operations.  \n",
    "They are mainly used in low-level programming, binary calculations, and performance tuning.\n",
    "\n",
    "---\n",
    "\n",
    "| Operator | Name         | Description                        | Example (a = 10, b = 4)     |\n",
    "|----------|--------------|------------------------------------|-----------------------------|\n",
    "| `&`      | AND          | Bits that are 1 in both            | `a & b` → `0`               |\n",
    "| `|`      | OR           | Bits that are 1 in either          | `a | b` → `14`              |\n",
    "| `^`      | XOR          | Bits that are different            | `a ^ b` → `14`              |\n",
    "| `~`      | NOT          | Flips all bits                     | `~a` → `-11`                |\n",
    "| `<<`     | Left Shift   | Shifts bits to the left            | `a << 2` → `40`             |\n",
    "| `>>`     | Right Shift  | Shifts bits to the right           | `a >> 2` → `2`              |\n"
   ]
  },
  {
   "cell_type": "code",
   "execution_count": 11,
   "id": "ad27ea8b",
   "metadata": {},
   "outputs": [
    {
     "name": "stdout",
     "output_type": "stream",
     "text": [
      "0\n",
      "14\n",
      "14\n",
      "-11\n",
      "40\n",
      "2\n"
     ]
    }
   ],
   "source": [
    "a = 10  # binary: 1010\n",
    "b = 4   # binary: 0100\n",
    "\n",
    "print(a & b)    # ➤ 0  (AND)\n",
    "print(a | b)    # ➤ 14 (OR)\n",
    "print(a ^ b)    # ➤ 14 (XOR)\n",
    "print(~a)       # ➤ -11 (NOT - inverts bits)\n",
    "print(a << 2)   # ➤ 40 (Left shift by 2 bits)\n",
    "print(a >> 2)   # ➤ 2  (Right shift by 2 bits)\n"
   ]
  },
  {
   "cell_type": "markdown",
   "id": "826bec3a",
   "metadata": {},
   "source": [
    "<h1 style=\"text-align: center;\">🔹 Section 8 – Number Systems in Python</h1>\n",
    "\n",
    "Python allows conversion between different number systems using built-in functions:\n",
    "\n",
    "- `bin()` → Converts to binary  \n",
    "- `oct()` → Converts to octal  \n",
    "- `hex()` → Converts to hexadecimal  \n",
    "- `int()` → Converts to decimal\n",
    "\n",
    "These are useful in scenarios like low-level programming, competitive coding, and bit manipulation.\n"
   ]
  },
  {
   "cell_type": "code",
   "execution_count": 12,
   "id": "31f96a77",
   "metadata": {},
   "outputs": [
    {
     "name": "stdout",
     "output_type": "stream",
     "text": [
      "0b1010\n",
      "0o12\n",
      "0xa\n",
      "10\n",
      "10\n",
      "10\n"
     ]
    }
   ],
   "source": [
    "# Decimal to Binary\n",
    "print(bin(10))     # ➤ '0b1010'\n",
    "\n",
    "# Decimal to Octal\n",
    "print(oct(10))     # ➤ '0o12'\n",
    "\n",
    "# Decimal to Hexadecimal\n",
    "print(hex(10))     # ➤ '0xa'\n",
    "\n",
    "# Binary/Octal/Hex to Decimal\n",
    "print(int('0b1010', 2))   # ➤ 10\n",
    "print(int('0o12', 8))     # ➤ 10\n",
    "print(int('0xa', 16))     # ➤ 10\n"
   ]
  },
  {
   "cell_type": "code",
   "execution_count": null,
   "id": "e00564d2",
   "metadata": {},
   "outputs": [],
   "source": []
  }
 ],
 "metadata": {
  "kernelspec": {
   "display_name": "base",
   "language": "python",
   "name": "python3"
  },
  "language_info": {
   "codemirror_mode": {
    "name": "ipython",
    "version": 3
   },
   "file_extension": ".py",
   "mimetype": "text/x-python",
   "name": "python",
   "nbconvert_exporter": "python",
   "pygments_lexer": "ipython3",
   "version": "3.12.7"
  }
 },
 "nbformat": 4,
 "nbformat_minor": 5
}
