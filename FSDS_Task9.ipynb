{
 "cells": [
  {
   "cell_type": "markdown",
   "id": "ecdd48a3",
   "metadata": {},
   "source": [
    "<h1 style=\"text-align:center;\">🧠 Section 1 – Python Math Module</h1>\n",
    "\n",
    "Python's `math` module provides access to many standard mathematical functions.  \n",
    "We'll explore all key operations and demonstrate **three import methods** along with real-time usage and error behaviors.\n",
    "\n",
    "---\n"
   ]
  },
  {
   "cell_type": "code",
   "execution_count": null,
   "id": "45c7fce4",
   "metadata": {},
   "outputs": [],
   "source": [
    "# ➤ Import the whole math module\n",
    "import math\n",
    "\n",
    "# ➤ Using math functions with 'math.' prefix\n",
    "print(\"Square root of 25:\", math.sqrt(25))           # ➤ 5.0\n",
    "print(\"2 raised to 3:\", math.pow(2, 3))               # ➤ 8.0\n",
    "print(\"Floor of 3.8:\", math.floor(3.8))               # ➤ 3\n",
    "print(\"Ceil of 3.1:\", math.ceil(3.1))                 # ➤ 4\n",
    "print(\"Value of pi:\", math.pi)                        # ➤ 3.141592653589793\n",
    "print(\"Value of e:\", math.e)                          # ➤ 2.718281828459045\n"
   ]
  },
  {
   "cell_type": "code",
   "execution_count": 1,
   "id": "5d1e403a",
   "metadata": {},
   "outputs": [
    {
     "name": "stdout",
     "output_type": "stream",
     "text": [
      "Square root using alias: 7.0\n",
      "Floor using alias: 7\n"
     ]
    }
   ],
   "source": [
    "# ➤ Import math with an alias 'm'\n",
    "import math as m\n",
    "\n",
    "# ➤ Access math functions using alias\n",
    "print(\"Square root using alias:\", m.sqrt(49))         # ➤ 7.0\n",
    "print(\"Floor using alias:\", m.floor(7.9))             # ➤ 7\n"
   ]
  },
  {
   "cell_type": "code",
   "execution_count": 2,
   "id": "fcd767c7",
   "metadata": {},
   "outputs": [
    {
     "name": "stdout",
     "output_type": "stream",
     "text": [
      "Square root of 64: 8.0\n",
      "5 to the power 2: 25.0\n",
      "Floor of 9.8: 9\n"
     ]
    }
   ],
   "source": [
    "# ➤ Import specific functions directly\n",
    "from math import sqrt, floor, pow\n",
    "\n",
    "# ➤ Now we can call these without 'math.'\n",
    "print(\"Square root of 64:\", sqrt(64))                 # ➤ 8.0\n",
    "print(\"5 to the power 2:\", pow(5, 2))                 # ➤ 25.0\n",
    "print(\"Floor of 9.8:\", floor(9.8))                    # ➤ 9\n",
    "\n",
    "# ➤ Trying to access math.pi will raise an error\n",
    "# print(pi)  # Uncommenting this will raise NameError\n"
   ]
  },
  {
   "cell_type": "code",
   "execution_count": 3,
   "id": "9a914722",
   "metadata": {},
   "outputs": [
    {
     "name": "stdout",
     "output_type": "stream",
     "text": [
      "Rounded power value: 11\n"
     ]
    }
   ],
   "source": [
    "# ➤ Using round() with math.pow()\n",
    "print(\"Rounded power value:\", round(pow(2, 3.4)))     # ➤ 10\n"
   ]
  },
  {
   "cell_type": "markdown",
   "id": "9f75aaa7",
   "metadata": {},
   "source": [
    "<h1 style=\"text-align:center;\">🧠 Section 2 – User Input in Python</h1>\n",
    "\n",
    "The `input()` function allows the user to enter values during program execution.  \n",
    "We’ll explore:\n",
    "- Accepting input as string\n",
    "- Type conversion using `int()`, `float()`\n",
    "- Indexing and slicing user input\n",
    "- `eval()` for evaluating expressions\n",
    "\n",
    "---\n"
   ]
  },
  {
   "cell_type": "code",
   "execution_count": 6,
   "id": "8adf7152",
   "metadata": {},
   "outputs": [
    {
     "name": "stdout",
     "output_type": "stream",
     "text": [
      "56\n"
     ]
    }
   ],
   "source": [
    "# ➤ input() always returns string by default\n",
    "a = input(\"Enter a value: \")      # User enters 5\n",
    "b = input(\"Enter another value: \") # User enters 6\n",
    "print(a + b)                      # ➤ '56' (string concatenation)\n"
   ]
  },
  {
   "cell_type": "code",
   "execution_count": 7,
   "id": "3e225031",
   "metadata": {},
   "outputs": [
    {
     "name": "stdout",
     "output_type": "stream",
     "text": [
      "Sum is: 11\n"
     ]
    }
   ],
   "source": [
    "# ➤ Convert input to integers before adding\n",
    "a = int(input(\"Enter first number: \"))   # ➤ 5\n",
    "b = int(input(\"Enter second number: \"))  # ➤ 6\n",
    "print(\"Sum is:\", a + b)                  # ➤ 11\n"
   ]
  },
  {
   "cell_type": "code",
   "execution_count": 8,
   "id": "d6a7b4ee",
   "metadata": {},
   "outputs": [
    {
     "name": "stdout",
     "output_type": "stream",
     "text": [
      "Character at index 3: a\n",
      "Slice from 1 to 3: ub\n"
     ]
    }
   ],
   "source": [
    "# ➤ You can access characters from input like a string\n",
    "name = input(\"Enter your name: \")        # ➤ Mubasshir\n",
    "print(\"Character at index 3:\", name[3])  # ➤ a\n",
    "print(\"Slice from 1 to 3:\", name[1:3])   # ➤ ub\n"
   ]
  },
  {
   "cell_type": "code",
   "execution_count": 10,
   "id": "31e3d674",
   "metadata": {},
   "outputs": [
    {
     "name": "stdout",
     "output_type": "stream",
     "text": [
      "Characters from index 1 to 2: ub\n"
     ]
    }
   ],
   "source": [
    "# ➤ Slicing directly on input string\n",
    "ch = input(\"Enter any word or characters: \")[1:3]  # ➤ Enter: mubasshir\n",
    "print(\"Characters from index 1 to 2:\", ch)         # ➤ ub\n"
   ]
  },
  {
   "cell_type": "code",
   "execution_count": 9,
   "id": "3f56ece1",
   "metadata": {},
   "outputs": [
    {
     "name": "stdout",
     "output_type": "stream",
     "text": [
      "Result: 15\n"
     ]
    }
   ],
   "source": [
    "# ➤ eval() turns input into a Python expression\n",
    "expr = eval(input(\"Enter an expression (e.g., 10+5): \"))  # ➤ 10+5\n",
    "print(\"Result:\", expr)                                    # ➤ 15\n"
   ]
  }
 ],
 "metadata": {
  "kernelspec": {
   "display_name": "base",
   "language": "python",
   "name": "python3"
  },
  "language_info": {
   "codemirror_mode": {
    "name": "ipython",
    "version": 3
   },
   "file_extension": ".py",
   "mimetype": "text/x-python",
   "name": "python",
   "nbconvert_exporter": "python",
   "pygments_lexer": "ipython3",
   "version": "3.12.7"
  }
 },
 "nbformat": 4,
 "nbformat_minor": 5
}
